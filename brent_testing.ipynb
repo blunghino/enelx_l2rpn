{
 "cells": [
  {
   "cell_type": "markdown",
   "metadata": {},
   "source": [
    "Useful paths for the submission and for data"
   ]
  },
  {
   "cell_type": "code",
   "execution_count": 1,
   "metadata": {},
   "outputs": [],
   "source": [
    "model_dir = 'agents/'\n",
    "submission_dir = 'example_submission/'\n",
    "problem_dir = 'utils/ingestion_program/'  \n",
    "score_dir = 'utils/scoring_program/'\n",
    "ref_data = 'utils/public_ref/'\n",
    "ingestion_output = 'utils/logs/'\n",
    "\n",
    "input_dir = 'public_data/'\n",
    "output_dir = 'utils/output/'"
   ]
  },
  {
   "cell_type": "code",
   "execution_count": 2,
   "metadata": {},
   "outputs": [],
   "source": [
    "from sys import path;\n",
    "path.append(model_dir); path.append(problem_dir); path.append(score_dir);\n",
    "path.append(input_dir); path.append(output_dir); "
   ]
  },
  {
   "cell_type": "markdown",
   "metadata": {},
   "source": [
    "Useful external libraries for this notebook"
   ]
  },
  {
   "cell_type": "code",
   "execution_count": 3,
   "metadata": {},
   "outputs": [],
   "source": [
    "\n",
    "import sys\n",
    "import logging\n",
    "import os\n",
    "#%matplotlib inline\n",
    "# Uncomment the next lines to auto-reload libraries (this causes some problem with pickles in Python 3)\n",
    "%load_ext autoreload\n",
    "%autoreload 2\n",
    "#import seaborn as sns; sns.set()\n",
    "import warnings\n",
    "import numpy as np\n",
    "import pandas as pd\n",
    "import evaluate\n",
    "%matplotlib inline\n",
    "import matplotlib.pyplot as plt\n",
    "import json\n",
    "\n",
    "warnings.simplefilter(action='ignore', category=FutureWarning)"
   ]
  },
  {
   "cell_type": "code",
   "execution_count": 4,
   "metadata": {},
   "outputs": [
    {
     "data": {
      "text/html": [
       "        <script type=\"text/javascript\">\n",
       "        window.PlotlyConfig = {MathJaxConfig: 'local'};\n",
       "        if (window.MathJax) {MathJax.Hub.Config({SVG: {font: \"STIX-Web\"}});}\n",
       "        if (typeof require !== 'undefined') {\n",
       "        require.undef(\"plotly\");\n",
       "        requirejs.config({\n",
       "            paths: {\n",
       "                'plotly': ['https://cdn.plot.ly/plotly-latest.min']\n",
       "            }\n",
       "        });\n",
       "        require(['plotly'], function(Plotly) {\n",
       "            window._Plotly = Plotly;\n",
       "        });\n",
       "        }\n",
       "        </script>\n",
       "        "
      ]
     },
     "metadata": {},
     "output_type": "display_data"
    }
   ],
   "source": [
    "from utils.visualize_grid import plot_grid\n",
    "from plotly.offline import download_plotlyjs, init_notebook_mode, plot, iplot \n",
    "\n",
    "# Connect Plotly in offline mode. \n",
    "init_notebook_mode(connected = True) "
   ]
  },
  {
   "cell_type": "markdown",
   "metadata": {},
   "source": [
    "During the challenge, a grid of 14 substations is given. 20 lines are connected through the nodes of the grids within substations.\n",
    "\n",
    "explore others notebooks for better understanding of the power network behavior: \n",
    " - Power_Grid_101_notebook.ipynb\n",
    " - visualize_14grid_with_customized_actions.ipynb\n",
    "\n",
    "In our grid environment, we take the case where there are 11 loads and 5 prods. Furthermore, we will only consider chronics over the month of January, the only month for which contestants are tested."
   ]
  },
  {
   "cell_type": "code",
   "execution_count": 5,
   "metadata": {},
   "outputs": [],
   "source": [
    "\n",
    "\n",
    "loads_p_file = '_N_loads_p.csv' #active power chronics for loads\n",
    "prods_p_file = '_N_prods_p.csv'  #active power chronics for productions\n",
    "datetimes_file = '_N_datetimes.csv' #timesstamps of the chronics\n",
    "maintenance_file = 'maintenance.csv' #maintenance operation chronics. No maintenance considered in the first challenge\n",
    "hazards_file = 'hazards.csv'   #harzard chronics that disconnect lines. No hazards considered in the first challenge\n",
    "imaps_file = '_N_imaps.csv' #thermal limits of the lines\n",
    "\n",
    "i = 0 # chronics id\n",
    "data_dir = input_dir+\"datasets\" #repository where to find all the chronics for a given difficulty level\n",
    "path = data_dir+'/chronics/0000/'\n"
   ]
  },
  {
   "cell_type": "markdown",
   "metadata": {},
   "source": [
    "We now load all data chronics to later visualize them. They will however be automaticall loaded in pypownet environment when run."
   ]
  },
  {
   "cell_type": "code",
   "execution_count": 6,
   "metadata": {},
   "outputs": [],
   "source": [
    "df_loads_p = {}\n",
    "df_prods_p = {}\n",
    "df_datetimes = {}\n",
    "df_maintenance = {}\n",
    "df_hazards = {} \n",
    "\n",
    "df_loads_p[str(i)] = pd.read_csv(path+loads_p_file, sep=';')\n",
    "df_prods_p[str(i)] = pd.read_csv(path+prods_p_file, sep=';')\n",
    "df_datetimes[str(i)] = pd.read_csv(path+datetimes_file, sep=';')\n",
    "df_loads_p[str(i)].index = pd.to_datetime(df_datetimes[str(i)]['date'] + ' ' + df_datetimes[str(i)]['time'])\n",
    "df_prods_p[str(i)].index = pd.to_datetime(df_datetimes[str(i)]['date'] + ' ' + df_datetimes[str(i)]['time'])\n",
    "df_maintenance[str(i)] = pd.read_csv(path+maintenance_file, sep=';')\n",
    "df_maintenance[str(i)].index = pd.to_datetime(df_datetimes[str(i)]['date'] + ' ' + df_datetimes[str(i)]['time'])\n",
    "df_hazards[str(i)] = pd.read_csv(path+hazards_file, sep=';')\n",
    "df_hazards[str(i)].index = pd.to_datetime(df_datetimes[str(i)]['date'] + ' ' + df_datetimes[str(i)]['time'])\n",
    "df_imaps = pd.read_csv(path + imaps_file, sep=';')\n"
   ]
  },
  {
   "cell_type": "markdown",
   "metadata": {},
   "source": [
    "## The Reward and the Score of an agent\n",
    "At each step pypownet return a reward to the agent.\n",
    "\n",
    "This reward is used to compute the Score for ranking participants in this current challenge.\n",
    "the final Score is the sum of the score of each scenario. for a scenario there is two option :\n",
    " - Your agent got a game over, the Score for this scenario is 0\n",
    " - your agent got no game over, the Score of this scenario is the sum of the reward at each timestep of this scenario\n",
    " \n",
    "### Computation of the reward\n",
    "For each timestep pypownet returns a reward : the sum of the squared flow for each line <br>\n",
    "<p>\n",
    "    \\[\n",
    "        R= \\sum_{l\\in lines} \\max\\left(1- \\frac{i_l}{i_{l_{max}}}^2,0\\right)\n",
    "    \\]\n",
    "</p>\n",
    "With $i_l$ the flow on the line l and $i_{l_{max}}$ the maximum allowed flow on this line.<br>\n",
    "The final score on one chronic is the sum of the rewards over the each timestep\n",
    "\n",
    "for better understanding of the reward calulation please look at <code>public_data/reward_function.py</code> for training purposes you can modify this function. \n"
   ]
  },
  {
   "cell_type": "markdown",
   "metadata": {},
   "source": [
    "### Run an agent \n",
    "\n",
    "Once you have defined an agent, you can run it under an environment over scenarios.\n",
    "\n",
    "NB: The runner from pypownet is perfectly fine but for the need of the leaderboard and its visualizations, the runner was augmented. The \"augmented\" version can be found in the starting kit. This is the runner that will run on the Codalab competition server. So before making a submission, make sure it runs with this runner as well. In the following you can choose one or the other, but to obtain a score as on the leaderboard, you need to run the \"augmented\" runner."
   ]
  },
  {
   "cell_type": "code",
   "execution_count": 7,
   "metadata": {},
   "outputs": [],
   "source": [
    "\n",
    "#from pypownet.runner import Runner\n",
    "from runner import Runner #an override of pypownet.runner \n",
    "import os\n",
    "import pypownet.environment\n",
    "\n",
    "data_dir = 'public_data'  \n",
    "\n",
    "def set_environment(game_level = \"datasets\", start_id=0):\n",
    "    \"\"\"\n",
    "        Load the first chronic (scenario) in the directory public_data/datasets \n",
    "    \"\"\"\n",
    "    return pypownet.environment.RunEnv(parameters_folder=os.path.abspath(input_dir),\n",
    "                                              game_level=game_level,\n",
    "                                              chronic_looping_mode='natural', start_id=start_id,\n",
    "                                              game_over_mode=\"soft\")\n",
    "\n",
    "def run_agent(environment, agent, number_iterations):\n",
    "    # Instanciate a runner, that will save the run statistics within the log_path file, to be parsed and processed\n",
    "    # by the scoring program\n",
    "    log_path = os.path.abspath(os.path.join(ingestion_output, 'runner.log'))\n",
    "    machinelog_filepath = os.path.abspath(os.path.join(ingestion_output,'machine_log.json'))# set to None \n",
    "    phase_runner = Runner(environment, submitted_controler, verbose=True, vverbose=False,\n",
    "                                          log_filepath=log_path, machinelog_filepath=machinelog_filepath)\n",
    "    phase_runner.ch.setLevel(logging.ERROR)\n",
    "    # Run the planned experiment of this phase with the submitted model\n",
    "    score = phase_runner.loop(iterations=number_iterations)\n",
    "    print(\"cumulative reward : {}\".format(score))\n",
    "    return score\n",
    "\n",
    "\n"
   ]
  },
  {
   "cell_type": "code",
   "execution_count": 19,
   "metadata": {},
   "outputs": [
    {
     "name": "stderr",
     "output_type": "stream",
     "text": [
      "WARNING        Using custom reward signal CustomRewardSignal of file /Users/lunghino/enelx_l2rpn/public_data/reward_signal.py\n",
      "WARNING        Using custom reward signal CustomRewardSignal of file /Users/lunghino/enelx_l2rpn/public_data/reward_signal.py\n",
      "WARNING        Using custom reward signal CustomRewardSignal of file /Users/lunghino/enelx_l2rpn/public_data/reward_signal.py\n",
      "INFO        Found 50 chronics of game level chronics; looping with mode natural starting with chronic 0000\n",
      "INFO        Found 50 chronics of game level chronics; looping with mode natural starting with chronic 0000\n",
      "INFO        Found 50 chronics of game level chronics; looping with mode natural starting with chronic 0000\n",
      "INFO        Loading next chronic...\n",
      "INFO        Loading next chronic...\n",
      "INFO        Loading next chronic...\n"
     ]
    },
    {
     "name": "stdout",
     "output_type": "stream",
     "text": [
      "Storing actions at saved_actions/AgentZero.csv\n"
     ]
    },
    {
     "name": "stderr",
     "output_type": "stream",
     "text": [
      "INFO          loaded chronic 0000\n",
      "INFO          loaded chronic 0000\n",
      "INFO          loaded chronic 0000\n",
      "DEBUG        observation: date: 2018 of 1 of 3 at 0h5m0s\n",
      "\n",
      " ====================================================================           ===================================================================\n",
      " |                               LOADS                              |           |                           PRODUCTIONS                           |\n",
      " ====================================================================           ===================================================================\n",
      " |                 | is  |         Current        | Previsions t+1  |           |                 | is  |         Current        | Previsions t+1 |\n",
      " | Sub. # | Node # | OFF |      P |     Q |     V |      P |      Q |           | Sub. # | Node # | OFF |      P |     Q |     V |      P |     V |\n",
      " |------- |------- |---- |------- |------ |------ |------- |------- |           |------- |------- |---- |------- |------ |------ |------- |------ |\n",
      " |      2 |      0 |   0 |   19.2 | 13.40 |  1.01 |   19.0 |  13.30 |           |      1 |      0 |   0 |   91.1 | 55.65 |  1.05 |  86.60 |  1.06 |\n",
      " |      3 |      0 |   0 |   87.1 | 61.20 |  1.08 |   85.9 |  60.10 |           |      2 |      0 |   0 |   58.9 |-85.88 |  1.01 |  58.30 |  1.01 |\n",
      " |      4 |      0 |   0 |   42.5 | 29.50 |  1.01 |   41.8 |  29.30 |           |      3 |      0 |   0 |   86.8 |138.07 |  1.08 |  88.00 |  1.07 |\n",
      " |      5 |      0 |   0 |    6.5 |  4.70 |  1.00 |    6.5 |   4.60 |           |      6 |      0 |   0 |    0.0 |  8.20 |  1.04 |   0.00 |  1.04 |\n",
      " |      6 |      0 |   0 |    9.6 |  6.80 |  1.04 |    9.6 |   6.80 |           |      8 |      0 |   0 |    0.0 | 27.37 |  1.10 |   0.00 |  1.09 |\n",
      " |      9 |      0 |   0 |   25.1 | 17.50 |  1.04 |   24.8 |  17.30 |\n",
      " |     10 |      0 |   0 |    7.7 |  5.50 |  1.03 |    7.6 |   5.30 |\n",
      " |     11 |      0 |   0 |    2.9 |  2.00 |  1.03 |    2.9 |   2.00 |\n",
      " |     12 |      0 |   0 |    5.4 |  3.70 |  1.02 |    5.3 |   3.70 |\n",
      " |     13 |      0 |   0 |   12.0 |  8.20 |  1.02 |   11.7 |   8.20 |\n",
      " |     14 |      0 |   0 |   13.1 |  9.20 |  1.01 |   13.0 |   9.10 |\n",
      "\n",
      "\n",
      " ===========================================================================================================================================\n",
      " |                                                                  LINES                                                                  |\n",
      " ===========================================================================================================================================\n",
      " |      Origin     |    Extremity    | is |         Origin        |        Extremity      | Flows  | Thermal |      Timesteps before       |\n",
      " | sub. # | node # | sub. # | node # | ON |      P |     Q |    V |      P |     Q |    V | Ampere | limits  | maintenance | reconnectable |\n",
      " |------- |------- |------- |------- |--- |------- |------ |----- |------- |------ |----- |------- |-------- |------------ |-------------- |\n",
      " |      1 |      0 |      2 |      0 |  1 |   52.2 |  44.3 | 1.05 |  -51.3 | -47.3 | 1.01 |  376.0 |     997 |           0 |             0 |\n",
      " |      1 |      0 |      5 |      0 |  1 |   38.9 |  11.3 | 1.05 |  -38.1 | -13.1 | 1.00 |  222.6 |     400 |           0 |             0 |\n",
      " |      2 |      0 |      3 |      0 |  1 |   22.7 | -40.1 | 1.01 |  -21.8 |  39.0 | 1.08 |  262.0 |     428 |           0 |             0 |\n",
      " |      2 |      0 |      4 |      0 |  1 |   37.2 |  -7.2 | 1.01 |  -36.4 |   6.2 | 1.01 |  215.3 |     374 |           0 |             0 |\n",
      " |      2 |      0 |      5 |      0 |  1 |   31.1 |  -4.7 | 1.01 |  -30.6 |   2.8 | 1.00 |  179.1 |     221 |           0 |             0 |\n",
      " |      3 |      0 |      4 |      0 |  1 |   21.5 |  37.9 | 1.08 |  -20.4 | -36.4 | 1.01 |  232.9 |     447 |           0 |             0 |\n",
      " |      4 |      0 |      5 |      0 |  1 |  -26.3 |  12.2 | 1.01 |   26.4 | -11.8 | 1.00 |  166.5 |     302 |           0 |             0 |\n",
      " |      4 |      0 |      7 |      0 |  1 |   25.9 | -11.6 | 1.01 |  -25.9 |  13.2 | 1.05 |  162.8 |     316 |           0 |             0 |\n",
      " |      4 |      0 |      9 |      0 |  1 |   14.7 |   0.2 | 1.01 |  -14.7 |   0.9 | 1.04 |   84.5 |     150 |           0 |             0 |\n",
      " |      5 |      0 |      6 |      0 |  1 |   35.7 |  17.4 | 1.00 |  -35.7 | -13.9 | 1.04 |  228.5 |     241 |           0 |             0 |\n",
      " |      6 |      0 |     13 |      0 |  1 |   14.9 |   9.7 | 1.04 |  -14.7 |  -9.3 | 1.02 |   98.5 |     123 |           0 |             0 |\n",
      " |      6 |      0 |     12 |      0 |  1 |    6.6 |   4.3 | 1.04 |   -6.5 |  -4.1 | 1.02 |   43.6 |     100 |           0 |             0 |\n",
      " |      6 |      0 |     11 |      0 |  1 |    4.7 |   1.4 | 1.04 |   -4.6 |  -1.4 | 1.03 |   27.0 |     209 |           0 |             0 |\n",
      " |      7 |      0 |      8 |      0 |  1 |    0.0 | -26.3 | 1.05 |   -0.0 |  27.4 | 1.10 |  144.0 |     390 |           0 |             0 |\n",
      " |      7 |      0 |      9 |      0 |  1 |   25.9 |  13.1 | 1.05 |  -25.9 | -12.2 | 1.04 |  158.9 |     354 |           0 |             0 |\n",
      " |      9 |      0 |     14 |      0 |  1 |    9.5 |   8.2 | 1.04 |   -9.3 |  -7.8 | 1.01 |   69.5 |     212 |           0 |             0 |\n",
      " |      9 |      0 |     10 |      0 |  1 |    6.0 |   6.2 | 1.04 |   -6.0 |  -6.1 | 1.03 |   47.9 |     175 |           0 |             0 |\n",
      " |     10 |      0 |     11 |      0 |  1 |   -1.7 |   0.6 | 1.03 |    1.7 |  -0.6 | 1.03 |   10.3 |     162 |           0 |             0 |\n",
      " |     12 |      0 |     13 |      0 |  1 |    1.1 |   0.4 | 1.02 |   -1.1 |  -0.4 | 1.02 |    6.8 |     100 |           0 |             0 |\n",
      " |     13 |      0 |     14 |      0 |  1 |    3.8 |   1.5 | 1.02 |   -3.8 |  -1.4 | 1.01 |   23.2 |     155 |           0 |             0 |\n",
      "\n",
      "DEBUG        observation: date: 2018 of 1 of 3 at 0h5m0s\n",
      "\n",
      " ====================================================================           ===================================================================\n",
      " |                               LOADS                              |           |                           PRODUCTIONS                           |\n",
      " ====================================================================           ===================================================================\n",
      " |                 | is  |         Current        | Previsions t+1  |           |                 | is  |         Current        | Previsions t+1 |\n",
      " | Sub. # | Node # | OFF |      P |     Q |     V |      P |      Q |           | Sub. # | Node # | OFF |      P |     Q |     V |      P |     V |\n",
      " |------- |------- |---- |------- |------ |------ |------- |------- |           |------- |------- |---- |------- |------ |------ |------- |------ |\n",
      " |      2 |      0 |   0 |   19.2 | 13.40 |  1.01 |   19.0 |  13.30 |           |      1 |      0 |   0 |   91.1 | 55.65 |  1.05 |  86.60 |  1.06 |\n",
      " |      3 |      0 |   0 |   87.1 | 61.20 |  1.08 |   85.9 |  60.10 |           |      2 |      0 |   0 |   58.9 |-85.88 |  1.01 |  58.30 |  1.01 |\n",
      " |      4 |      0 |   0 |   42.5 | 29.50 |  1.01 |   41.8 |  29.30 |           |      3 |      0 |   0 |   86.8 |138.07 |  1.08 |  88.00 |  1.07 |\n",
      " |      5 |      0 |   0 |    6.5 |  4.70 |  1.00 |    6.5 |   4.60 |           |      6 |      0 |   0 |    0.0 |  8.20 |  1.04 |   0.00 |  1.04 |\n",
      " |      6 |      0 |   0 |    9.6 |  6.80 |  1.04 |    9.6 |   6.80 |           |      8 |      0 |   0 |    0.0 | 27.37 |  1.10 |   0.00 |  1.09 |\n",
      " |      9 |      0 |   0 |   25.1 | 17.50 |  1.04 |   24.8 |  17.30 |\n",
      " |     10 |      0 |   0 |    7.7 |  5.50 |  1.03 |    7.6 |   5.30 |\n",
      " |     11 |      0 |   0 |    2.9 |  2.00 |  1.03 |    2.9 |   2.00 |\n",
      " |     12 |      0 |   0 |    5.4 |  3.70 |  1.02 |    5.3 |   3.70 |\n",
      " |     13 |      0 |   0 |   12.0 |  8.20 |  1.02 |   11.7 |   8.20 |\n",
      " |     14 |      0 |   0 |   13.1 |  9.20 |  1.01 |   13.0 |   9.10 |\n",
      "\n",
      "\n",
      " ===========================================================================================================================================\n",
      " |                                                                  LINES                                                                  |\n",
      " ===========================================================================================================================================\n",
      " |      Origin     |    Extremity    | is |         Origin        |        Extremity      | Flows  | Thermal |      Timesteps before       |\n",
      " | sub. # | node # | sub. # | node # | ON |      P |     Q |    V |      P |     Q |    V | Ampere | limits  | maintenance | reconnectable |\n",
      " |------- |------- |------- |------- |--- |------- |------ |----- |------- |------ |----- |------- |-------- |------------ |-------------- |\n",
      " |      1 |      0 |      2 |      0 |  1 |   52.2 |  44.3 | 1.05 |  -51.3 | -47.3 | 1.01 |  376.0 |     997 |           0 |             0 |\n",
      " |      1 |      0 |      5 |      0 |  1 |   38.9 |  11.3 | 1.05 |  -38.1 | -13.1 | 1.00 |  222.6 |     400 |           0 |             0 |\n",
      " |      2 |      0 |      3 |      0 |  1 |   22.7 | -40.1 | 1.01 |  -21.8 |  39.0 | 1.08 |  262.0 |     428 |           0 |             0 |\n",
      " |      2 |      0 |      4 |      0 |  1 |   37.2 |  -7.2 | 1.01 |  -36.4 |   6.2 | 1.01 |  215.3 |     374 |           0 |             0 |\n",
      " |      2 |      0 |      5 |      0 |  1 |   31.1 |  -4.7 | 1.01 |  -30.6 |   2.8 | 1.00 |  179.1 |     221 |           0 |             0 |\n",
      " |      3 |      0 |      4 |      0 |  1 |   21.5 |  37.9 | 1.08 |  -20.4 | -36.4 | 1.01 |  232.9 |     447 |           0 |             0 |\n",
      " |      4 |      0 |      5 |      0 |  1 |  -26.3 |  12.2 | 1.01 |   26.4 | -11.8 | 1.00 |  166.5 |     302 |           0 |             0 |\n",
      " |      4 |      0 |      7 |      0 |  1 |   25.9 | -11.6 | 1.01 |  -25.9 |  13.2 | 1.05 |  162.8 |     316 |           0 |             0 |\n",
      " |      4 |      0 |      9 |      0 |  1 |   14.7 |   0.2 | 1.01 |  -14.7 |   0.9 | 1.04 |   84.5 |     150 |           0 |             0 |\n",
      " |      5 |      0 |      6 |      0 |  1 |   35.7 |  17.4 | 1.00 |  -35.7 | -13.9 | 1.04 |  228.5 |     241 |           0 |             0 |\n",
      " |      6 |      0 |     13 |      0 |  1 |   14.9 |   9.7 | 1.04 |  -14.7 |  -9.3 | 1.02 |   98.5 |     123 |           0 |             0 |\n",
      " |      6 |      0 |     12 |      0 |  1 |    6.6 |   4.3 | 1.04 |   -6.5 |  -4.1 | 1.02 |   43.6 |     100 |           0 |             0 |\n",
      " |      6 |      0 |     11 |      0 |  1 |    4.7 |   1.4 | 1.04 |   -4.6 |  -1.4 | 1.03 |   27.0 |     209 |           0 |             0 |\n",
      " |      7 |      0 |      8 |      0 |  1 |    0.0 | -26.3 | 1.05 |   -0.0 |  27.4 | 1.10 |  144.0 |     390 |           0 |             0 |\n",
      " |      7 |      0 |      9 |      0 |  1 |   25.9 |  13.1 | 1.05 |  -25.9 | -12.2 | 1.04 |  158.9 |     354 |           0 |             0 |\n",
      " |      9 |      0 |     14 |      0 |  1 |    9.5 |   8.2 | 1.04 |   -9.3 |  -7.8 | 1.01 |   69.5 |     212 |           0 |             0 |\n",
      " |      9 |      0 |     10 |      0 |  1 |    6.0 |   6.2 | 1.04 |   -6.0 |  -6.1 | 1.03 |   47.9 |     175 |           0 |             0 |\n",
      " |     10 |      0 |     11 |      0 |  1 |   -1.7 |   0.6 | 1.03 |    1.7 |  -0.6 | 1.03 |   10.3 |     162 |           0 |             0 |\n",
      " |     12 |      0 |     13 |      0 |  1 |    1.1 |   0.4 | 1.02 |   -1.1 |  -0.4 | 1.02 |    6.8 |     100 |           0 |             0 |\n",
      " |     13 |      0 |     14 |      0 |  1 |    3.8 |   1.5 | 1.02 |   -3.8 |  -1.4 | 1.01 |   23.2 |     155 |           0 |             0 |\n",
      "\n"
     ]
    },
    {
     "name": "stderr",
     "output_type": "stream",
     "text": [
      "DEBUG        observation: date: 2018 of 1 of 3 at 0h5m0s\n",
      "\n",
      " ====================================================================           ===================================================================\n",
      " |                               LOADS                              |           |                           PRODUCTIONS                           |\n",
      " ====================================================================           ===================================================================\n",
      " |                 | is  |         Current        | Previsions t+1  |           |                 | is  |         Current        | Previsions t+1 |\n",
      " | Sub. # | Node # | OFF |      P |     Q |     V |      P |      Q |           | Sub. # | Node # | OFF |      P |     Q |     V |      P |     V |\n",
      " |------- |------- |---- |------- |------ |------ |------- |------- |           |------- |------- |---- |------- |------ |------ |------- |------ |\n",
      " |      2 |      0 |   0 |   19.2 | 13.40 |  1.01 |   19.0 |  13.30 |           |      1 |      0 |   0 |   91.1 | 55.65 |  1.05 |  86.60 |  1.06 |\n",
      " |      3 |      0 |   0 |   87.1 | 61.20 |  1.08 |   85.9 |  60.10 |           |      2 |      0 |   0 |   58.9 |-85.88 |  1.01 |  58.30 |  1.01 |\n",
      " |      4 |      0 |   0 |   42.5 | 29.50 |  1.01 |   41.8 |  29.30 |           |      3 |      0 |   0 |   86.8 |138.07 |  1.08 |  88.00 |  1.07 |\n",
      " |      5 |      0 |   0 |    6.5 |  4.70 |  1.00 |    6.5 |   4.60 |           |      6 |      0 |   0 |    0.0 |  8.20 |  1.04 |   0.00 |  1.04 |\n",
      " |      6 |      0 |   0 |    9.6 |  6.80 |  1.04 |    9.6 |   6.80 |           |      8 |      0 |   0 |    0.0 | 27.37 |  1.10 |   0.00 |  1.09 |\n",
      " |      9 |      0 |   0 |   25.1 | 17.50 |  1.04 |   24.8 |  17.30 |\n",
      " |     10 |      0 |   0 |    7.7 |  5.50 |  1.03 |    7.6 |   5.30 |\n",
      " |     11 |      0 |   0 |    2.9 |  2.00 |  1.03 |    2.9 |   2.00 |\n",
      " |     12 |      0 |   0 |    5.4 |  3.70 |  1.02 |    5.3 |   3.70 |\n",
      " |     13 |      0 |   0 |   12.0 |  8.20 |  1.02 |   11.7 |   8.20 |\n",
      " |     14 |      0 |   0 |   13.1 |  9.20 |  1.01 |   13.0 |   9.10 |\n",
      "\n",
      "\n",
      " ===========================================================================================================================================\n",
      " |                                                                  LINES                                                                  |\n",
      " ===========================================================================================================================================\n",
      " |      Origin     |    Extremity    | is |         Origin        |        Extremity      | Flows  | Thermal |      Timesteps before       |\n",
      " | sub. # | node # | sub. # | node # | ON |      P |     Q |    V |      P |     Q |    V | Ampere | limits  | maintenance | reconnectable |\n",
      " |------- |------- |------- |------- |--- |------- |------ |----- |------- |------ |----- |------- |-------- |------------ |-------------- |\n",
      " |      1 |      0 |      2 |      0 |  1 |   52.2 |  44.3 | 1.05 |  -51.3 | -47.3 | 1.01 |  376.0 |     997 |           0 |             0 |\n",
      " |      1 |      0 |      5 |      0 |  1 |   38.9 |  11.3 | 1.05 |  -38.1 | -13.1 | 1.00 |  222.6 |     400 |           0 |             0 |\n",
      " |      2 |      0 |      3 |      0 |  1 |   22.7 | -40.1 | 1.01 |  -21.8 |  39.0 | 1.08 |  262.0 |     428 |           0 |             0 |\n",
      " |      2 |      0 |      4 |      0 |  1 |   37.2 |  -7.2 | 1.01 |  -36.4 |   6.2 | 1.01 |  215.3 |     374 |           0 |             0 |\n",
      " |      2 |      0 |      5 |      0 |  1 |   31.1 |  -4.7 | 1.01 |  -30.6 |   2.8 | 1.00 |  179.1 |     221 |           0 |             0 |\n",
      " |      3 |      0 |      4 |      0 |  1 |   21.5 |  37.9 | 1.08 |  -20.4 | -36.4 | 1.01 |  232.9 |     447 |           0 |             0 |\n",
      " |      4 |      0 |      5 |      0 |  1 |  -26.3 |  12.2 | 1.01 |   26.4 | -11.8 | 1.00 |  166.5 |     302 |           0 |             0 |\n",
      " |      4 |      0 |      7 |      0 |  1 |   25.9 | -11.6 | 1.01 |  -25.9 |  13.2 | 1.05 |  162.8 |     316 |           0 |             0 |\n",
      " |      4 |      0 |      9 |      0 |  1 |   14.7 |   0.2 | 1.01 |  -14.7 |   0.9 | 1.04 |   84.5 |     150 |           0 |             0 |\n",
      " |      5 |      0 |      6 |      0 |  1 |   35.7 |  17.4 | 1.00 |  -35.7 | -13.9 | 1.04 |  228.5 |     241 |           0 |             0 |\n",
      " |      6 |      0 |     13 |      0 |  1 |   14.9 |   9.7 | 1.04 |  -14.7 |  -9.3 | 1.02 |   98.5 |     123 |           0 |             0 |\n",
      " |      6 |      0 |     12 |      0 |  1 |    6.6 |   4.3 | 1.04 |   -6.5 |  -4.1 | 1.02 |   43.6 |     100 |           0 |             0 |\n",
      " |      6 |      0 |     11 |      0 |  1 |    4.7 |   1.4 | 1.04 |   -4.6 |  -1.4 | 1.03 |   27.0 |     209 |           0 |             0 |\n",
      " |      7 |      0 |      8 |      0 |  1 |    0.0 | -26.3 | 1.05 |   -0.0 |  27.4 | 1.10 |  144.0 |     390 |           0 |             0 |\n",
      " |      7 |      0 |      9 |      0 |  1 |   25.9 |  13.1 | 1.05 |  -25.9 | -12.2 | 1.04 |  158.9 |     354 |           0 |             0 |\n",
      " |      9 |      0 |     14 |      0 |  1 |    9.5 |   8.2 | 1.04 |   -9.3 |  -7.8 | 1.01 |   69.5 |     212 |           0 |             0 |\n",
      " |      9 |      0 |     10 |      0 |  1 |    6.0 |   6.2 | 1.04 |   -6.0 |  -6.1 | 1.03 |   47.9 |     175 |           0 |             0 |\n",
      " |     10 |      0 |     11 |      0 |  1 |   -1.7 |   0.6 | 1.03 |    1.7 |  -0.6 | 1.03 |   10.3 |     162 |           0 |             0 |\n",
      " |     12 |      0 |     13 |      0 |  1 |    1.1 |   0.4 | 1.02 |   -1.1 |  -0.4 | 1.02 |    6.8 |     100 |           0 |             0 |\n",
      " |     13 |      0 |     14 |      0 |  1 |    3.8 |   1.5 | 1.02 |   -3.8 |  -1.4 | 1.01 |   23.2 |     155 |           0 |             0 |\n",
      "\n",
      "DEBUG        observation: date: 2018 of 1 of 3 at 0h5m0s\n",
      "\n",
      " ====================================================================           ===================================================================\n",
      " |                               LOADS                              |           |                           PRODUCTIONS                           |\n",
      " ====================================================================           ===================================================================\n",
      " |                 | is  |         Current        | Previsions t+1  |           |                 | is  |         Current        | Previsions t+1 |\n",
      " | Sub. # | Node # | OFF |      P |     Q |     V |      P |      Q |           | Sub. # | Node # | OFF |      P |     Q |     V |      P |     V |\n",
      " |------- |------- |---- |------- |------ |------ |------- |------- |           |------- |------- |---- |------- |------ |------ |------- |------ |\n",
      " |      2 |      0 |   0 |   19.2 | 13.40 |  1.01 |   19.0 |  13.30 |           |      1 |      0 |   0 |   91.1 | 55.65 |  1.05 |  86.60 |  1.06 |\n",
      " |      3 |      0 |   0 |   87.1 | 61.20 |  1.08 |   85.9 |  60.10 |           |      2 |      0 |   0 |   58.9 |-85.88 |  1.01 |  58.30 |  1.01 |\n",
      " |      4 |      0 |   0 |   42.5 | 29.50 |  1.01 |   41.8 |  29.30 |           |      3 |      0 |   0 |   86.8 |138.07 |  1.08 |  88.00 |  1.07 |\n",
      " |      5 |      0 |   0 |    6.5 |  4.70 |  1.00 |    6.5 |   4.60 |           |      6 |      0 |   0 |    0.0 |  8.20 |  1.04 |   0.00 |  1.04 |\n",
      " |      6 |      0 |   0 |    9.6 |  6.80 |  1.04 |    9.6 |   6.80 |           |      8 |      0 |   0 |    0.0 | 27.37 |  1.10 |   0.00 |  1.09 |\n",
      " |      9 |      0 |   0 |   25.1 | 17.50 |  1.04 |   24.8 |  17.30 |\n",
      " |     10 |      0 |   0 |    7.7 |  5.50 |  1.03 |    7.6 |   5.30 |\n",
      " |     11 |      0 |   0 |    2.9 |  2.00 |  1.03 |    2.9 |   2.00 |\n",
      " |     12 |      0 |   0 |    5.4 |  3.70 |  1.02 |    5.3 |   3.70 |\n",
      " |     13 |      0 |   0 |   12.0 |  8.20 |  1.02 |   11.7 |   8.20 |\n",
      " |     14 |      0 |   0 |   13.1 |  9.20 |  1.01 |   13.0 |   9.10 |\n",
      "\n",
      "\n",
      " ===========================================================================================================================================\n",
      " |                                                                  LINES                                                                  |\n",
      " ===========================================================================================================================================\n",
      " |      Origin     |    Extremity    | is |         Origin        |        Extremity      | Flows  | Thermal |      Timesteps before       |\n",
      " | sub. # | node # | sub. # | node # | ON |      P |     Q |    V |      P |     Q |    V | Ampere | limits  | maintenance | reconnectable |\n",
      " |------- |------- |------- |------- |--- |------- |------ |----- |------- |------ |----- |------- |-------- |------------ |-------------- |\n",
      " |      1 |      0 |      2 |      0 |  1 |   52.2 |  44.3 | 1.05 |  -51.3 | -47.3 | 1.01 |  376.0 |     997 |           0 |             0 |\n",
      " |      1 |      0 |      5 |      0 |  1 |   38.9 |  11.3 | 1.05 |  -38.1 | -13.1 | 1.00 |  222.6 |     400 |           0 |             0 |\n",
      " |      2 |      0 |      3 |      0 |  1 |   22.7 | -40.1 | 1.01 |  -21.8 |  39.0 | 1.08 |  262.0 |     428 |           0 |             0 |\n",
      " |      2 |      0 |      4 |      0 |  1 |   37.2 |  -7.2 | 1.01 |  -36.4 |   6.2 | 1.01 |  215.3 |     374 |           0 |             0 |\n",
      " |      2 |      0 |      5 |      0 |  1 |   31.1 |  -4.7 | 1.01 |  -30.6 |   2.8 | 1.00 |  179.1 |     221 |           0 |             0 |\n",
      " |      3 |      0 |      4 |      0 |  1 |   21.5 |  37.9 | 1.08 |  -20.4 | -36.4 | 1.01 |  232.9 |     447 |           0 |             0 |\n",
      " |      4 |      0 |      5 |      0 |  1 |  -26.3 |  12.2 | 1.01 |   26.4 | -11.8 | 1.00 |  166.5 |     302 |           0 |             0 |\n",
      " |      4 |      0 |      7 |      0 |  1 |   25.9 | -11.6 | 1.01 |  -25.9 |  13.2 | 1.05 |  162.8 |     316 |           0 |             0 |\n",
      " |      4 |      0 |      9 |      0 |  1 |   14.7 |   0.2 | 1.01 |  -14.7 |   0.9 | 1.04 |   84.5 |     150 |           0 |             0 |\n",
      " |      5 |      0 |      6 |      0 |  1 |   35.7 |  17.4 | 1.00 |  -35.7 | -13.9 | 1.04 |  228.5 |     241 |           0 |             0 |\n",
      " |      6 |      0 |     13 |      0 |  1 |   14.9 |   9.7 | 1.04 |  -14.7 |  -9.3 | 1.02 |   98.5 |     123 |           0 |             0 |\n",
      " |      6 |      0 |     12 |      0 |  1 |    6.6 |   4.3 | 1.04 |   -6.5 |  -4.1 | 1.02 |   43.6 |     100 |           0 |             0 |\n",
      " |      6 |      0 |     11 |      0 |  1 |    4.7 |   1.4 | 1.04 |   -4.6 |  -1.4 | 1.03 |   27.0 |     209 |           0 |             0 |\n",
      " |      7 |      0 |      8 |      0 |  1 |    0.0 | -26.3 | 1.05 |   -0.0 |  27.4 | 1.10 |  144.0 |     390 |           0 |             0 |\n",
      " |      7 |      0 |      9 |      0 |  1 |   25.9 |  13.1 | 1.05 |  -25.9 | -12.2 | 1.04 |  158.9 |     354 |           0 |             0 |\n",
      " |      9 |      0 |     14 |      0 |  1 |    9.5 |   8.2 | 1.04 |   -9.3 |  -7.8 | 1.01 |   69.5 |     212 |           0 |             0 |\n",
      " |      9 |      0 |     10 |      0 |  1 |    6.0 |   6.2 | 1.04 |   -6.0 |  -6.1 | 1.03 |   47.9 |     175 |           0 |             0 |\n",
      " |     10 |      0 |     11 |      0 |  1 |   -1.7 |   0.6 | 1.03 |    1.7 |  -0.6 | 1.03 |   10.3 |     162 |           0 |             0 |\n",
      " |     12 |      0 |     13 |      0 |  1 |    1.1 |   0.4 | 1.02 |   -1.1 |  -0.4 | 1.02 |    6.8 |     100 |           0 |             0 |\n",
      " |     13 |      0 |     14 |      0 |  1 |    3.8 |   1.5 | 1.02 |   -3.8 |  -1.4 | 1.01 |   23.2 |     155 |           0 |             0 |\n",
      "\n"
     ]
    },
    {
     "name": "stderr",
     "output_type": "stream",
     "text": [
      "WARNING        Action has too much activations simultaneously: 12/1 activated substations, 11/1 switched lines and 23/2 total switched elements (substations and lines).\n",
      "WARNING        Action has too much activations simultaneously: 12/1 activated substations, 11/1 switched lines and 23/2 total switched elements (substations and lines).\n",
      "WARNING        Action has too much activations simultaneously: 12/1 activated substations, 11/1 switched lines and 23/2 total switched elements (substations and lines).\n",
      "WARNING        Action has too much activations simultaneously: 12/1 activated substations, 11/1 switched lines and 23/2 total switched elements (substations and lines).\n"
     ]
    },
    {
     "name": "stdout",
     "output_type": "stream",
     "text": [
      "(392, 76)\n"
     ]
    },
    {
     "ename": "IndexError",
     "evalue": "shape mismatch: indexing arrays could not be broadcast together with shapes (392,) (76,) ",
     "output_type": "error",
     "traceback": [
      "\u001b[0;31m---------------------------------------------------------------------------\u001b[0m",
      "\u001b[0;31mIndexError\u001b[0m                                Traceback (most recent call last)",
      "\u001b[0;32m<ipython-input-19-99981f6f6ade>\u001b[0m in \u001b[0;36m<module>\u001b[0;34m\u001b[0m\n\u001b[1;32m      7\u001b[0m \u001b[0mphase_runner\u001b[0m \u001b[0;34m=\u001b[0m \u001b[0mRunner\u001b[0m\u001b[0;34m(\u001b[0m\u001b[0menv_train\u001b[0m\u001b[0;34m,\u001b[0m \u001b[0magent\u001b[0m\u001b[0;34m,\u001b[0m \u001b[0mverbose\u001b[0m\u001b[0;34m=\u001b[0m\u001b[0;32mTrue\u001b[0m\u001b[0;34m,\u001b[0m \u001b[0mvverbose\u001b[0m\u001b[0;34m=\u001b[0m\u001b[0;32mTrue\u001b[0m\u001b[0;34m)\u001b[0m\u001b[0;34m\u001b[0m\u001b[0m\n\u001b[1;32m      8\u001b[0m \u001b[0;31m# Run the planned experiment of this phase with the submitted model\u001b[0m\u001b[0;34m\u001b[0m\u001b[0;34m\u001b[0m\u001b[0m\n\u001b[0;32m----> 9\u001b[0;31m \u001b[0mscore\u001b[0m \u001b[0;34m=\u001b[0m \u001b[0mphase_runner\u001b[0m\u001b[0;34m.\u001b[0m\u001b[0mloop\u001b[0m\u001b[0;34m(\u001b[0m\u001b[0mn_iterations\u001b[0m\u001b[0;34m,\u001b[0m \u001b[0mn_episodes\u001b[0m\u001b[0;34m)\u001b[0m\u001b[0;34m\u001b[0m\u001b[0m\n\u001b[0m\u001b[1;32m     10\u001b[0m \u001b[0mnp\u001b[0m\u001b[0;34m.\u001b[0m\u001b[0msave\u001b[0m\u001b[0;34m(\u001b[0m\u001b[0mos\u001b[0m\u001b[0;34m.\u001b[0m\u001b[0mpath\u001b[0m\u001b[0;34m.\u001b[0m\u001b[0mjoin\u001b[0m\u001b[0;34m(\u001b[0m\u001b[0;34m'saved_actions'\u001b[0m\u001b[0;34m,\u001b[0m \u001b[0;34m'qtable.np'\u001b[0m\u001b[0;34m)\u001b[0m\u001b[0;34m,\u001b[0m \u001b[0magent\u001b[0m\u001b[0;34m.\u001b[0m\u001b[0mqtable\u001b[0m\u001b[0;34m)\u001b[0m\u001b[0;34m\u001b[0m\u001b[0m\n",
      "\u001b[0;32m~/enelx_l2rpn/utils/ingestion_program/runner.py\u001b[0m in \u001b[0;36mloop\u001b[0;34m(self, iterations, episodes)\u001b[0m\n\u001b[1;32m    118\u001b[0m             \u001b[0mt0\u001b[0m \u001b[0;34m=\u001b[0m \u001b[0mtime\u001b[0m\u001b[0;34m.\u001b[0m\u001b[0mtime\u001b[0m\u001b[0;34m(\u001b[0m\u001b[0;34m)\u001b[0m\u001b[0;34m\u001b[0m\u001b[0m\n\u001b[1;32m    119\u001b[0m             \u001b[0;32mfor\u001b[0m \u001b[0mi\u001b[0m \u001b[0;32min\u001b[0m \u001b[0mrange\u001b[0m\u001b[0;34m(\u001b[0m\u001b[0;36m1\u001b[0m\u001b[0;34m,\u001b[0m \u001b[0miterations\u001b[0m \u001b[0;34m+\u001b[0m \u001b[0;36m1\u001b[0m\u001b[0;34m)\u001b[0m\u001b[0;34m:\u001b[0m\u001b[0;34m\u001b[0m\u001b[0m\n\u001b[0;32m--> 120\u001b[0;31m                 \u001b[0;34m(\u001b[0m\u001b[0mobservation\u001b[0m\u001b[0;34m,\u001b[0m \u001b[0maction\u001b[0m\u001b[0;34m,\u001b[0m \u001b[0mreward\u001b[0m\u001b[0;34m,\u001b[0m \u001b[0mreward_aslist\u001b[0m\u001b[0;34m,\u001b[0m \u001b[0mdone\u001b[0m\u001b[0;34m)\u001b[0m \u001b[0;34m=\u001b[0m \u001b[0mself\u001b[0m\u001b[0;34m.\u001b[0m\u001b[0mstep\u001b[0m\u001b[0;34m(\u001b[0m\u001b[0mobservation\u001b[0m\u001b[0;34m)\u001b[0m\u001b[0;34m\u001b[0m\u001b[0m\n\u001b[0m\u001b[1;32m    121\u001b[0m                 \u001b[0mcumul_rew\u001b[0m \u001b[0;34m+=\u001b[0m \u001b[0mreward\u001b[0m\u001b[0;34m\u001b[0m\u001b[0m\n\u001b[1;32m    122\u001b[0m                 self.logger.info(\"step %d/%d - reward: %.2f; cumulative reward: %.2f\" %\n",
      "\u001b[0;32m~/enelx_l2rpn/utils/ingestion_program/runner.py\u001b[0m in \u001b[0;36mstep\u001b[0;34m(self, observation)\u001b[0m\n\u001b[1;32m     93\u001b[0m             \u001b[0mself\u001b[0m\u001b[0;34m.\u001b[0m\u001b[0menvironment\u001b[0m\u001b[0;34m.\u001b[0m\u001b[0mrender\u001b[0m\u001b[0;34m(\u001b[0m\u001b[0;34m)\u001b[0m\u001b[0;34m\u001b[0m\u001b[0m\n\u001b[1;32m     94\u001b[0m \u001b[0;34m\u001b[0m\u001b[0m\n\u001b[0;32m---> 95\u001b[0;31m         \u001b[0mself\u001b[0m\u001b[0;34m.\u001b[0m\u001b[0magent\u001b[0m\u001b[0;34m.\u001b[0m\u001b[0mfeed_reward\u001b[0m\u001b[0;34m(\u001b[0m\u001b[0maction\u001b[0m\u001b[0;34m,\u001b[0m \u001b[0mobservation\u001b[0m\u001b[0;34m,\u001b[0m \u001b[0mreward_aslist\u001b[0m\u001b[0;34m)\u001b[0m\u001b[0;34m\u001b[0m\u001b[0m\n\u001b[0m\u001b[1;32m     96\u001b[0m \u001b[0;34m\u001b[0m\u001b[0m\n\u001b[1;32m     97\u001b[0m         \u001b[0mself\u001b[0m\u001b[0;34m.\u001b[0m\u001b[0mlogger\u001b[0m\u001b[0;34m.\u001b[0m\u001b[0mdebug\u001b[0m\u001b[0;34m(\u001b[0m\u001b[0;34m'action: {}'\u001b[0m\u001b[0;34m.\u001b[0m\u001b[0mformat\u001b[0m\u001b[0;34m(\u001b[0m\u001b[0maction\u001b[0m\u001b[0;34m)\u001b[0m\u001b[0;34m)\u001b[0m\u001b[0;34m\u001b[0m\u001b[0m\n",
      "\u001b[0;32m~/enelx_l2rpn/agents/brent_agents.py\u001b[0m in \u001b[0;36mfeed_reward\u001b[0;34m(self, action, new_observation, reward_aslist)\u001b[0m\n\u001b[1;32m     84\u001b[0m         \u001b[0;31m# Get the old q-value\u001b[0m\u001b[0;34m\u001b[0m\u001b[0;34m\u001b[0m\u001b[0m\n\u001b[1;32m     85\u001b[0m         \u001b[0mprint\u001b[0m\u001b[0;34m(\u001b[0m\u001b[0mself\u001b[0m\u001b[0;34m.\u001b[0m\u001b[0mqtable\u001b[0m\u001b[0;34m.\u001b[0m\u001b[0mshape\u001b[0m\u001b[0;34m)\u001b[0m\u001b[0;34m\u001b[0m\u001b[0m\n\u001b[0;32m---> 86\u001b[0;31m         \u001b[0mold_value\u001b[0m \u001b[0;34m=\u001b[0m \u001b[0mself\u001b[0m\u001b[0;34m.\u001b[0m\u001b[0mqtable\u001b[0m\u001b[0;34m[\u001b[0m\u001b[0mself\u001b[0m\u001b[0;34m.\u001b[0m\u001b[0mstate_vec\u001b[0m\u001b[0;34m,\u001b[0m \u001b[0maction\u001b[0m\u001b[0;34m]\u001b[0m\u001b[0;34m\u001b[0m\u001b[0m\n\u001b[0m\u001b[1;32m     87\u001b[0m \u001b[0;34m\u001b[0m\u001b[0m\n\u001b[1;32m     88\u001b[0m         \u001b[0;31m# Look-up the next maximum q action given the new state\u001b[0m\u001b[0;34m\u001b[0m\u001b[0;34m\u001b[0m\u001b[0m\n",
      "\u001b[0;31mIndexError\u001b[0m: shape mismatch: indexing arrays could not be broadcast together with shapes (392,) (76,) "
     ]
    }
   ],
   "source": [
    "from agents import brent_agents\n",
    "agent = brent_agents.AgentQ(env_train, mode='train')\n",
    "env_train = set_environment()\n",
    "rewards = []\n",
    "n_episodes = 2\n",
    "n_iterations = 100\n",
    "phase_runner = Runner(env_train, agent, verbose=True, vverbose=True)\n",
    "# Run the planned experiment of this phase with the submitted model\n",
    "score = phase_runner.loop(n_iterations, n_episodes)\n",
    "np.save(os.path.join('saved_actions', 'qtable.np'), agent.qtable)"
   ]
  },
  {
   "cell_type": "markdown",
   "metadata": {},
   "source": [
    "Now run it. \n",
    "\n",
    "You could load the agent from your own submission in submission.py. We explain after how to make a submission"
   ]
  },
  {
   "cell_type": "code",
   "execution_count": 80,
   "metadata": {
    "lines_to_next_cell": 2
   },
   "outputs": [
    {
     "name": "stdout",
     "output_type": "stream",
     "text": [
      "Storing actions at saved_actions/AgentZero.csv\n",
      "cumulative reward : 1020.002468912675\n"
     ]
    }
   ],
   "source": [
    "import submission #existing example as submission.py\n",
    "import brent_agents\n",
    "\n",
    "NUMBER_ITERATIONS = 100 # The number of iterations can be changed\n",
    "\n",
    "sys.path.append(model_dir)\n",
    "\n",
    "if not os.path.exists(ingestion_output):\n",
    "    os.makedirs(ingestion_output)\n",
    "log_path = os.path.abspath(os.path.join(ingestion_output, 'runner.log'))\n",
    "open(log_path, 'w').close()\n",
    "\n",
    "env = set_environment()\n",
    "\n",
    "submitted_controller = agent(env)\n",
    "_ = run_agent(env, submitted_controller, NUMBER_ITERATIONS)\n"
   ]
  },
  {
   "cell_type": "code",
   "execution_count": 81,
   "metadata": {},
   "outputs": [
    {
     "data": {
      "application/vnd.plotly.v1+json": {
       "config": {
        "linkText": "Export to plot.ly",
        "plotlyServerURL": "https://plot.ly",
        "responsive": true,
        "showLink": false
       },
       "data": [
        {
         "hoverinfo": "none",
         "line": {
          "color": "red",
          "width": 6
         },
         "mode": "lines",
         "type": "scatter",
         "uid": "93abd06b-05c9-43bb-9ee3-2cb8aae09e41",
         "x": [],
         "y": []
        },
        {
         "hoverinfo": "none",
         "line": {
          "color": "#888",
          "width": 1.4
         },
         "mode": "lines",
         "type": "scatter",
         "uid": "cf05044a-6554-4687-b4b6-bf639e7202de",
         "x": [
          -280,
          -100,
          null,
          -280,
          -80,
          null,
          -100,
          366,
          null,
          -100,
          350,
          null,
          -100,
          -80,
          null,
          366,
          350,
          null,
          350,
          -80,
          null,
          350,
          380,
          null,
          350,
          326,
          null,
          -80,
          -64,
          null,
          -64,
          -40,
          null,
          -64,
          -152,
          null,
          -64,
          79,
          null,
          380,
          438,
          null,
          380,
          326,
          null,
          326,
          222,
          null,
          326,
          200,
          null,
          200,
          79,
          null,
          -152,
          -40,
          null,
          -40,
          222,
          null
         ],
         "y": [
          -81,
          -270,
          null,
          -81,
          -54,
          null,
          -270,
          -270,
          null,
          -270,
          -70,
          null,
          -270,
          -54,
          null,
          -270,
          -70,
          null,
          -70,
          -54,
          null,
          -70,
          0,
          null,
          -70,
          70,
          null,
          -54,
          54,
          null,
          54,
          270,
          null,
          54,
          270,
          null,
          54,
          162,
          null,
          0,
          0,
          null,
          0,
          70,
          null,
          70,
          270,
          null,
          70,
          108,
          null,
          108,
          162,
          null,
          270,
          270,
          null,
          270,
          270,
          null
         ]
        },
        {
         "hoverinfo": "text",
         "marker": {
          "color": [
           "rgb(227,26,28)",
           "rgb(227,26,28)",
           "rgb(227,26,28)",
           "rgb(31,120,180)",
           "rgb(31,120,180)",
           "rgb(227,26,28)",
           "rgb(31,120,180)",
           "rgb(227,26,28)",
           "rgb(31,120,180)",
           "rgb(31,120,180)",
           "rgb(31,120,180)",
           "rgb(31,120,180)",
           "rgb(31,120,180)",
           "rgb(31,120,180)"
          ],
          "line": {
           "color": "rgb(100,100,100)",
           "width": 2
          },
          "size": [
           47,
           47,
           47,
           32,
           32,
           47,
           32,
           47,
           32,
           32,
           32,
           32,
           32,
           32
          ]
         },
         "mode": "markers+text",
         "text": [
          "Results:<br>Prod: 85.7 MW<br>TLor{1-2} 52.5 MW<br>TLor{1-5} 33.2 MW",
          "Results:<br>Prod: 46.8 MW<br>Load: 21.5 MW<br>TLor{2-3} 21.7 MW<br>TLor{2-4} 30.1 MW<br>TLor{2-5} 24.3 MW<br>TLex{2-1} -50.8 MW",
          "Results:<br>Prod: 87.1 MW<br>Load: 94.5 MW<br>TLor{3-4} 13.6 MW<br>TLex{3-2} -21.0 MW",
          "Results:<br>Load: 47.7 MW<br>TLor{4-5} -25.7 MW<br>TLor{4-7} 10.3 MW<br>TLor{4-9} 10.2 MW<br>TLex{4-2} -29.6 MW<br>TLex{4-3} -12.9 MW",
          "Results:<br>Load: 7.4 MW<br>TLor{5-6} 23.3 MW<br>TLex{5-1} -32.4 MW<br>TLex{5-2} -24.0 MW<br>TLex{5-4} 25.7 MW",
          "Results:<br>Prod: 19.1 MW<br>Load: 10.6 MW<br>TLor{6-13} 17.3 MW<br>TLor{6-12} 7.6 MW<br>TLor{6-11} 6.9 MW<br>TLex{6-5} -23.3 MW",
          "Results:<br>TLor{7-8} -22.1 MW<br>TLor{7-9} 32.4 MW<br>TLex{7-4} -10.3 MW",
          "Results:<br>Prod: 22.1 MW<br>TLex{8-7} 22.1 MW",
          "Results:<br>Load: 28.1 MW<br>TLor{9-14} 9.5 MW<br>TLor{9-10} 4.9 MW<br>TLex{9-4} -10.2 MW<br>TLex{9-7} -32.4 MW",
          "Results:<br>Load: 8.5 MW<br>TLor{10-11} -3.6 MW<br>TLex{10-9} -4.9 MW",
          "Results:<br>Load: 3.2 MW<br>TLex{11-6} -6.8 MW<br>TLex{11-10} 3.6 MW",
          "Results:<br>Load: 6.0 MW<br>TLor{12-13} 1.5 MW<br>TLex{12-6} -7.5 MW",
          "Results:<br>Load: 13.0 MW<br>TLor{13-14} 5.5 MW<br>TLex{13-6} -17.0 MW<br>TLex{13-12} -1.5 MW",
          "Results:<br>Load: 14.8 MW<br>TLex{14-9} -9.3 MW<br>TLex{14-13} -5.5 MW"
         ],
         "textfont": {
          "color": "rgb(50,50,50)",
          "size": 9
         },
         "textposition": [
          "top center",
          "top left",
          "middle right",
          "bottom left",
          "bottom right",
          "middle left",
          "top center",
          "bottom center",
          "bottom left",
          "top center",
          "bottom center",
          "middle left",
          "bottom right",
          "middle right"
         ],
         "type": "scatter",
         "uid": "a259d0e5-7711-4f1c-bfd9-30d32aaed027",
         "x": [
          -280,
          -100,
          366,
          350,
          -80,
          -64,
          380,
          438,
          326,
          200,
          79,
          -152,
          -40,
          222
         ],
         "y": [
          -81,
          -270,
          -270,
          -70,
          -54,
          54,
          0,
          0,
          70,
          108,
          162,
          270,
          270,
          270
         ]
        }
       ],
       "layout": {
        "annotations": [
         {
          "font": {
           "color": "rgb(255,255,255)",
           "size": 10
          },
          "showarrow": false,
          "text": "1",
          "x": -280,
          "xref": "x",
          "y": -81,
          "yref": "y"
         },
         {
          "font": {
           "color": "rgb(255,255,255)",
           "size": 10
          },
          "showarrow": false,
          "text": "2",
          "x": -100,
          "xref": "x",
          "y": -270,
          "yref": "y"
         },
         {
          "font": {
           "color": "rgb(255,255,255)",
           "size": 10
          },
          "showarrow": false,
          "text": "3",
          "x": 366,
          "xref": "x",
          "y": -270,
          "yref": "y"
         },
         {
          "font": {
           "color": "rgb(255,255,255)",
           "size": 10
          },
          "showarrow": false,
          "text": "4",
          "x": 350,
          "xref": "x",
          "y": -70,
          "yref": "y"
         },
         {
          "font": {
           "color": "rgb(255,255,255)",
           "size": 10
          },
          "showarrow": false,
          "text": "5",
          "x": -80,
          "xref": "x",
          "y": -54,
          "yref": "y"
         },
         {
          "font": {
           "color": "rgb(255,255,255)",
           "size": 10
          },
          "showarrow": false,
          "text": "6",
          "x": -64,
          "xref": "x",
          "y": 54,
          "yref": "y"
         },
         {
          "font": {
           "color": "rgb(255,255,255)",
           "size": 10
          },
          "showarrow": false,
          "text": "7",
          "x": 380,
          "xref": "x",
          "y": 0,
          "yref": "y"
         },
         {
          "font": {
           "color": "rgb(255,255,255)",
           "size": 10
          },
          "showarrow": false,
          "text": "8",
          "x": 438,
          "xref": "x",
          "y": 0,
          "yref": "y"
         },
         {
          "font": {
           "color": "rgb(255,255,255)",
           "size": 10
          },
          "showarrow": false,
          "text": "9",
          "x": 326,
          "xref": "x",
          "y": 70,
          "yref": "y"
         },
         {
          "font": {
           "color": "rgb(255,255,255)",
           "size": 10
          },
          "showarrow": false,
          "text": "10",
          "x": 200,
          "xref": "x",
          "y": 108,
          "yref": "y"
         },
         {
          "font": {
           "color": "rgb(255,255,255)",
           "size": 10
          },
          "showarrow": false,
          "text": "11",
          "x": 79,
          "xref": "x",
          "y": 162,
          "yref": "y"
         },
         {
          "font": {
           "color": "rgb(255,255,255)",
           "size": 10
          },
          "showarrow": false,
          "text": "12",
          "x": -152,
          "xref": "x",
          "y": 270,
          "yref": "y"
         },
         {
          "font": {
           "color": "rgb(255,255,255)",
           "size": 10
          },
          "showarrow": false,
          "text": "13",
          "x": -40,
          "xref": "x",
          "y": 270,
          "yref": "y"
         },
         {
          "font": {
           "color": "rgb(255,255,255)",
           "size": 10
          },
          "showarrow": false,
          "text": "14",
          "x": 222,
          "xref": "x",
          "y": 270,
          "yref": "y"
         }
        ],
        "margin": {
         "b": 10,
         "l": 5,
         "r": 5,
         "t": 10
        },
        "showlegend": false,
        "xaxis": {
         "showgrid": false,
         "showticklabels": false,
         "zeroline": false
        },
        "yaxis": {
         "showgrid": false,
         "showticklabels": false,
         "zeroline": false
        }
       }
      },
      "text/html": [
       "<div>\n",
       "        \n",
       "        \n",
       "            <div id=\"2e2e4e99-2e05-484f-815d-b8d63fc1de37\" class=\"plotly-graph-div\" style=\"height:525px; width:100%;\"></div>\n",
       "            <script type=\"text/javascript\">\n",
       "                require([\"plotly\"], function(Plotly) {\n",
       "                    window.PLOTLYENV=window.PLOTLYENV || {};\n",
       "                    window.PLOTLYENV.BASE_URL='https://plot.ly';\n",
       "                    \n",
       "                if (document.getElementById(\"2e2e4e99-2e05-484f-815d-b8d63fc1de37\")) {\n",
       "                    Plotly.newPlot(\n",
       "                        '2e2e4e99-2e05-484f-815d-b8d63fc1de37',\n",
       "                        [{\"hoverinfo\": \"none\", \"line\": {\"color\": \"red\", \"width\": 6}, \"mode\": \"lines\", \"type\": \"scatter\", \"uid\": \"06300189-b0ec-4840-a045-cb124a1766eb\", \"x\": [], \"y\": []}, {\"hoverinfo\": \"none\", \"line\": {\"color\": \"#888\", \"width\": 1.4}, \"mode\": \"lines\", \"type\": \"scatter\", \"uid\": \"072176a1-7b5e-492c-a46e-a1067b30badd\", \"x\": [-280, -100, null, -280, -80, null, -100, 366, null, -100, 350, null, -100, -80, null, 366, 350, null, 350, -80, null, 350, 380, null, 350, 326, null, -80, -64, null, -64, -40, null, -64, -152, null, -64, 79, null, 380, 438, null, 380, 326, null, 326, 222, null, 326, 200, null, 200, 79, null, -152, -40, null, -40, 222, null], \"y\": [-81, -270, null, -81, -54, null, -270, -270, null, -270, -70, null, -270, -54, null, -270, -70, null, -70, -54, null, -70, 0, null, -70, 70, null, -54, 54, null, 54, 270, null, 54, 270, null, 54, 162, null, 0, 0, null, 0, 70, null, 70, 270, null, 70, 108, null, 108, 162, null, 270, 270, null, 270, 270, null]}, {\"hoverinfo\": \"text\", \"marker\": {\"color\": [\"rgb(227,26,28)\", \"rgb(227,26,28)\", \"rgb(227,26,28)\", \"rgb(31,120,180)\", \"rgb(31,120,180)\", \"rgb(227,26,28)\", \"rgb(31,120,180)\", \"rgb(227,26,28)\", \"rgb(31,120,180)\", \"rgb(31,120,180)\", \"rgb(31,120,180)\", \"rgb(31,120,180)\", \"rgb(31,120,180)\", \"rgb(31,120,180)\"], \"line\": {\"color\": \"rgb(100,100,100)\", \"width\": 2}, \"size\": [47.0, 47.0, 47.0, 32.0, 32.0, 47.0, 32.0, 47.0, 32.0, 32.0, 32.0, 32.0, 32.0, 32.0]}, \"mode\": \"markers+text\", \"text\": [\"Results:<br>Prod: 85.7 MW<br>TLor{1-2} 52.5 MW<br>TLor{1-5} 33.2 MW\", \"Results:<br>Prod: 46.8 MW<br>Load: 21.5 MW<br>TLor{2-3} 21.7 MW<br>TLor{2-4} 30.1 MW<br>TLor{2-5} 24.3 MW<br>TLex{2-1} -50.8 MW\", \"Results:<br>Prod: 87.1 MW<br>Load: 94.5 MW<br>TLor{3-4} 13.6 MW<br>TLex{3-2} -21.0 MW\", \"Results:<br>Load: 47.7 MW<br>TLor{4-5} -25.7 MW<br>TLor{4-7} 10.3 MW<br>TLor{4-9} 10.2 MW<br>TLex{4-2} -29.6 MW<br>TLex{4-3} -12.9 MW\", \"Results:<br>Load: 7.4 MW<br>TLor{5-6} 23.3 MW<br>TLex{5-1} -32.4 MW<br>TLex{5-2} -24.0 MW<br>TLex{5-4} 25.7 MW\", \"Results:<br>Prod: 19.1 MW<br>Load: 10.6 MW<br>TLor{6-13} 17.3 MW<br>TLor{6-12} 7.6 MW<br>TLor{6-11} 6.9 MW<br>TLex{6-5} -23.3 MW\", \"Results:<br>TLor{7-8} -22.1 MW<br>TLor{7-9} 32.4 MW<br>TLex{7-4} -10.3 MW\", \"Results:<br>Prod: 22.1 MW<br>TLex{8-7} 22.1 MW\", \"Results:<br>Load: 28.1 MW<br>TLor{9-14} 9.5 MW<br>TLor{9-10} 4.9 MW<br>TLex{9-4} -10.2 MW<br>TLex{9-7} -32.4 MW\", \"Results:<br>Load: 8.5 MW<br>TLor{10-11} -3.6 MW<br>TLex{10-9} -4.9 MW\", \"Results:<br>Load: 3.2 MW<br>TLex{11-6} -6.8 MW<br>TLex{11-10} 3.6 MW\", \"Results:<br>Load: 6.0 MW<br>TLor{12-13} 1.5 MW<br>TLex{12-6} -7.5 MW\", \"Results:<br>Load: 13.0 MW<br>TLor{13-14} 5.5 MW<br>TLex{13-6} -17.0 MW<br>TLex{13-12} -1.5 MW\", \"Results:<br>Load: 14.8 MW<br>TLex{14-9} -9.3 MW<br>TLex{14-13} -5.5 MW\"], \"textfont\": {\"color\": \"rgb(50,50,50)\", \"size\": 9}, \"textposition\": [\"top center\", \"top left\", \"middle right\", \"bottom left\", \"bottom right\", \"middle left\", \"top center\", \"bottom center\", \"bottom left\", \"top center\", \"bottom center\", \"middle left\", \"bottom right\", \"middle right\"], \"type\": \"scatter\", \"uid\": \"b3fbd4d6-28e8-4ab3-8eb6-0dba45ef0f2b\", \"x\": [-280, -100, 366, 350, -80, -64, 380, 438, 326, 200, 79, -152, -40, 222], \"y\": [-81, -270, -270, -70, -54, 54, 0, 0, 70, 108, 162, 270, 270, 270]}],\n",
       "                        {\"annotations\": [{\"font\": {\"color\": \"rgb(255,255,255)\", \"size\": 10}, \"showarrow\": false, \"text\": \"1\", \"x\": -280, \"xref\": \"x\", \"y\": -81, \"yref\": \"y\"}, {\"font\": {\"color\": \"rgb(255,255,255)\", \"size\": 10}, \"showarrow\": false, \"text\": \"2\", \"x\": -100, \"xref\": \"x\", \"y\": -270, \"yref\": \"y\"}, {\"font\": {\"color\": \"rgb(255,255,255)\", \"size\": 10}, \"showarrow\": false, \"text\": \"3\", \"x\": 366, \"xref\": \"x\", \"y\": -270, \"yref\": \"y\"}, {\"font\": {\"color\": \"rgb(255,255,255)\", \"size\": 10}, \"showarrow\": false, \"text\": \"4\", \"x\": 350, \"xref\": \"x\", \"y\": -70, \"yref\": \"y\"}, {\"font\": {\"color\": \"rgb(255,255,255)\", \"size\": 10}, \"showarrow\": false, \"text\": \"5\", \"x\": -80, \"xref\": \"x\", \"y\": -54, \"yref\": \"y\"}, {\"font\": {\"color\": \"rgb(255,255,255)\", \"size\": 10}, \"showarrow\": false, \"text\": \"6\", \"x\": -64, \"xref\": \"x\", \"y\": 54, \"yref\": \"y\"}, {\"font\": {\"color\": \"rgb(255,255,255)\", \"size\": 10}, \"showarrow\": false, \"text\": \"7\", \"x\": 380, \"xref\": \"x\", \"y\": 0, \"yref\": \"y\"}, {\"font\": {\"color\": \"rgb(255,255,255)\", \"size\": 10}, \"showarrow\": false, \"text\": \"8\", \"x\": 438, \"xref\": \"x\", \"y\": 0, \"yref\": \"y\"}, {\"font\": {\"color\": \"rgb(255,255,255)\", \"size\": 10}, \"showarrow\": false, \"text\": \"9\", \"x\": 326, \"xref\": \"x\", \"y\": 70, \"yref\": \"y\"}, {\"font\": {\"color\": \"rgb(255,255,255)\", \"size\": 10}, \"showarrow\": false, \"text\": \"10\", \"x\": 200, \"xref\": \"x\", \"y\": 108, \"yref\": \"y\"}, {\"font\": {\"color\": \"rgb(255,255,255)\", \"size\": 10}, \"showarrow\": false, \"text\": \"11\", \"x\": 79, \"xref\": \"x\", \"y\": 162, \"yref\": \"y\"}, {\"font\": {\"color\": \"rgb(255,255,255)\", \"size\": 10}, \"showarrow\": false, \"text\": \"12\", \"x\": -152, \"xref\": \"x\", \"y\": 270, \"yref\": \"y\"}, {\"font\": {\"color\": \"rgb(255,255,255)\", \"size\": 10}, \"showarrow\": false, \"text\": \"13\", \"x\": -40, \"xref\": \"x\", \"y\": 270, \"yref\": \"y\"}, {\"font\": {\"color\": \"rgb(255,255,255)\", \"size\": 10}, \"showarrow\": false, \"text\": \"14\", \"x\": 222, \"xref\": \"x\", \"y\": 270, \"yref\": \"y\"}], \"margin\": {\"b\": 10, \"l\": 5, \"r\": 5, \"t\": 10}, \"showlegend\": false, \"xaxis\": {\"showgrid\": false, \"showticklabels\": false, \"zeroline\": false}, \"yaxis\": {\"showgrid\": false, \"showticklabels\": false, \"zeroline\": false}},\n",
       "                        {\"showLink\": false, \"linkText\": \"Export to plot.ly\", \"plotlyServerURL\": \"https://plot.ly\", \"responsive\": true}\n",
       "                    ).then(function(){\n",
       "                            \n",
       "var gd = document.getElementById('2e2e4e99-2e05-484f-815d-b8d63fc1de37');\n",
       "var x = new MutationObserver(function (mutations, observer) {{\n",
       "        var display = window.getComputedStyle(gd).display;\n",
       "        if (!display || display === 'none') {{\n",
       "            console.log([gd, 'removed!']);\n",
       "            Plotly.purge(gd);\n",
       "            observer.disconnect();\n",
       "        }}\n",
       "}});\n",
       "\n",
       "// Listen for the removal of the full notebook cells\n",
       "var notebookContainer = gd.closest('#notebook-container');\n",
       "if (notebookContainer) {{\n",
       "    x.observe(notebookContainer, {childList: true});\n",
       "}}\n",
       "\n",
       "// Listen for the clearing of the current output cell\n",
       "var outputEl = gd.closest('.output');\n",
       "if (outputEl) {{\n",
       "    x.observe(outputEl, {childList: true});\n",
       "}}\n",
       "\n",
       "                        })\n",
       "                };\n",
       "                });\n",
       "            </script>\n",
       "        </div>"
      ]
     },
     "metadata": {},
     "output_type": "display_data"
    }
   ],
   "source": [
    "# Please use the visualize_grid external script to display the \n",
    "# eletrical grid in the notebook.\n",
    "obs = env._get_obs()\n",
    "action = env.action_space.get_do_nothing_action()\n",
    "grid_after_action = plot_grid(env, \n",
    "                              obs, \n",
    "                              action)\n",
    "\n",
    "# Plot the grid\n",
    "iplot(grid_after_action)"
   ]
  },
  {
   "cell_type": "markdown",
   "metadata": {},
   "source": [
    "**WARNING**: the following cell to compute the leaderboard score will not run if you did not use the \"augmented\" runner previously."
   ]
  },
  {
   "cell_type": "code",
   "execution_count": 64,
   "metadata": {},
   "outputs": [
    {
     "data": {
      "image/png": "[encoded data removed]",
      "text/plain": [
       "<Figure size 720x504 with 1 Axes>"
      ]
     },
     "metadata": {
      "needs_background": "light"
     },
     "output_type": "display_data"
    },
    {
     "data": {
      "image/png": "[encoded data removed]",
      "text/plain": [
       "<Figure size 360x360 with 1 Axes>"
      ]
     },
     "metadata": {},
     "output_type": "display_data"
    },
    {
     "data": {
      "image/png": "[encoded data removed]",
      "text/plain": [
       "<Figure size 720x504 with 1 Axes>"
      ]
     },
     "metadata": {
      "needs_background": "light"
     },
     "output_type": "display_data"
    },
    {
     "data": {
      "image/png": "[encoded data removed]",
      "text/plain": [
       "<Figure size 720x504 with 1 Axes>"
      ]
     },
     "metadata": {
      "needs_background": "light"
     },
     "output_type": "display_data"
    }
   ],
   "source": [
    "import evaluate\n",
    "scoring_function = evaluate.extract_json\n",
    "action_space = evaluate.get_action_space(os.path.join('utils',\"ref\"))\n",
    "_ = scoring_function(os.path.join(ingestion_output, \"machine_log.json\"),action_space)"
   ]
  },
  {
   "cell_type": "markdown",
   "metadata": {},
   "source": [
    "<div style=\"background:#FFFFAA\">\n",
    "    <b> Save the best agent </b> it should be a class Submission and save in \"example_submission/submission.py\".  Uncomment the line <i>%%writefile example_submission/submission.py to save the agent. </i>\n",
    "</div>"
   ]
  },
  {
   "cell_type": "markdown",
   "metadata": {},
   "source": [
    "<div style=\"background:#FFFFAA\">\n",
    "<h1> Step 3: Making a submission </h1> \n",
    "\n",
    "<h2> Unit testing </h2> \n",
    "\n",
    "It is <b><span style=\"color:red\">important that you test your submission files before submitting them</span></b>. All you have to do to make a submission is create or modify the <code>Sumbission</code> class the file <code>submission.py</code>  in your `model_dir`, then run this test to make sure everything works fine. This is the actual program that will be run on the server to test your submission. <br>\n",
    "\n",
    "take note that on codalab, your local directory is <code>program/</code>. Then if you want to load the file <code>model.dump</code> run : <code>open(\"program/model.dump\")</code> even if the file is in at the root of your submission dir.\n",
    "</div>"
   ]
  },
  {
   "cell_type": "code",
   "execution_count": 68,
   "metadata": {},
   "outputs": [
    {
     "name": "stdout",
     "output_type": "stream",
     "text": [
      "input dir: /Users/lunghino/enelx_l2rpn/public_data\n",
      "output dir: /Users/lunghino/enelx_l2rpn/utils/res\n",
      "program dir: /Users/lunghino/enelx_l2rpn/utils/ingestion_program\n",
      "submission dir: /Users/lunghino/enelx_l2rpn/agents\n",
      "input content ['full_chronic_names.json', 'reward_signal.py', 'datasets', '4_substations', '__pycache__', 'chronic_names.json']\n",
      "output content ['log_files.json', 'runner.log', 'machine_log_1.json', 'machine_log_0.json', 'machine_log_3.json', 'machine_log_2.json']\n",
      "program content ['ingestion.py', 'runner.py', '__pycache__', 'metadata']\n",
      "submission content ['submission.py', 'brent_agents.py', '__pycache__']\n",
      "Using custom reward signal CustomRewardSignal of file /Users/lunghino/enelx_l2rpn/public_data/reward_signal.py\n",
      "Storing actions at saved_actions_AgentZero.csv\n",
      "log file path /Users/lunghino/enelx_l2rpn/utils/res/runner.log\n",
      "/Users/lunghino/enelx_l2rpn/.env/lib/python3.6/site-packages/pypower/fdpf.py:121: RuntimeWarning: overflow encountered in multiply\n",
      "  mis = (V * conj(Ybus * V) - Sbus) / Vm\n",
      "/Users/lunghino/enelx_l2rpn/.env/lib/python3.6/site-packages/pypower/fdpf.py:121: RuntimeWarning: invalid value encountered in multiply\n",
      "  mis = (V * conj(Ybus * V) - Sbus) / Vm\n",
      "/Users/lunghino/enelx_l2rpn/.env/lib/python3.6/site-packages/pypower/fdpf.py:121: RuntimeWarning: invalid value encountered in true_divide\n",
      "  mis = (V * conj(Ybus * V) - Sbus) / Vm\n",
      "/Users/lunghino/enelx_l2rpn/.env/lib/python3.6/site-packages/numpy/core/_methods.py:28: RuntimeWarning: invalid value encountered in reduce\n",
      "  return umr_maximum(a, axis, None, out, keepdims, initial)\n",
      "Storing actions at saved_actions_AgentZero.csv\n",
      "log file path /Users/lunghino/enelx_l2rpn/utils/res/runner.log\n",
      "Storing actions at saved_actions_AgentZero.csv\n",
      "log file path /Users/lunghino/enelx_l2rpn/utils/res/runner.log\n",
      "Storing actions at saved_actions_AgentZero.csv\n",
      "log file path /Users/lunghino/enelx_l2rpn/utils/res/runner.log\n",
      "Overall time spent 61.95 sec \n"
     ]
    }
   ],
   "source": [
    "#codalab command line used on the competition server. So it is best to test it as it is, rather than directly importing the related python method here and execute it. \n",
    "#you are supposed to run python 3 here. If \"!python\" command does not work, try \"!python3\" \n",
    "!python $problem_dir/ingestion.py $input_dir utils/res $problem_dir $model_dir"
   ]
  },
  {
   "cell_type": "markdown",
   "metadata": {},
   "source": [
    "<div style=\"background:#FFFFAA\">\n",
    "Also test the scoring program:\n",
    "    </div>"
   ]
  },
  {
   "cell_type": "code",
   "execution_count": 69,
   "metadata": {
    "lines_to_next_cell": 2
   },
   "outputs": [
    {
     "name": "stdout",
     "output_type": "stream",
     "text": [
      "utils\n",
      "results\n",
      "Using custom reward signal CustomRewardSignal of file /Users/lunghino/enelx_l2rpn/utils/ref/reward_signal.py\n",
      "watch : http:/view/results/scores.html\n"
     ]
    }
   ],
   "source": [
    "scoring_output_dir = 'results'\n",
    "\n",
    "#you are supposed to run python3 here. If \"!python\" command does not work, try \"!python3\" \n",
    "!python $score_dir/evaluate.py utils $scoring_output_dir\n",
    "print(\"watch : http:/view/\"+ scoring_output_dir +\"/scores.html\")"
   ]
  },
  {
   "cell_type": "markdown",
   "metadata": {},
   "source": [
    "<div style=\"background:#FFFFAA\">\n",
    "    <h1> Preparing the submission </h1>\n",
    "\n",
    "Zip the contents of `sample_code_submission/` (without the directory), or download the challenge public_data and run the command in the previous cell, after replacing sample_data by public_data.\n",
    "Then zip the contents of `sample_result_submission/` (without the directory).\n",
    "<b><span style=\"color:red\">Do NOT zip the data with your submissions</span></b>."
   ]
  },
  {
   "cell_type": "code",
   "execution_count": 67,
   "metadata": {
    "lines_to_next_cell": 0
   },
   "outputs": [],
   "source": [
    "# import datetime \n",
    "# import zipfile\n",
    "\n",
    "# def zipdir(path, ziph):\n",
    "#     # ziph is zipfile handle\n",
    "#     for root, dirs, files in os.walk(path):\n",
    "#         for file in files:\n",
    "#             ziph.write(os.path.join(root, file))\n",
    "\n",
    "# the_date = datetime.datetime.now().strftime(\"%y-%m-%d-%H-%M\")\n",
    "# sample_code_submission = 'sample_code_submission_' + the_date + '.zip' \n",
    "\n",
    "# with zipfile.ZipFile(sample_code_submission, 'w', zipfile.ZIP_DEFLATED) as zipf:\n",
    "#     zipdir(submission_dir,zipf)\n",
    "# print(\"Submit one of these files:\\n\" + sample_code_submission + \"\\n\")"
   ]
  },
  {
   "cell_type": "code",
   "execution_count": null,
   "metadata": {
    "lines_to_next_cell": 0
   },
   "outputs": [],
   "source": [
    "\n",
    "\n"
   ]
  },
  {
   "cell_type": "code",
   "execution_count": null,
   "metadata": {},
   "outputs": [],
   "source": []
  },
  {
   "cell_type": "code",
   "execution_count": null,
   "metadata": {},
   "outputs": [],
   "source": []
  }
 ],
 "metadata": {
  "jupytext": {
   "formats": "ipynb,py"
  },
  "kernelspec": {
   "display_name": "Python 3",
   "language": "python",
   "name": "python3"
  },
  "language_info": {
   "codemirror_mode": {
    "name": "ipython",
    "version": 3
   },
   "file_extension": ".py",
   "mimetype": "text/x-python",
   "name": "python",
   "nbconvert_exporter": "python",
   "pygments_lexer": "ipython3",
   "version": "3.6.5"
  }
 },
 "nbformat": 4,
 "nbformat_minor": 2
}
