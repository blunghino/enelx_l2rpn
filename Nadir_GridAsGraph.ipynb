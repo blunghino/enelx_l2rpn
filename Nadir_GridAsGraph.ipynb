{
 "cells": [
  {
   "cell_type": "markdown",
   "metadata": {},
   "source": [
    "## Experimenting with Graph Theory for Feature Generation\n",
    "\n",
    "The grid, as defined in the PyPownet environment is really a directed graph with edge weights. We can model it as such, and then use existing graph-theory algorithms to pull out information about the grid that may be beneficial for targeting specific actions given a state.\n",
    "\n",
    "For example, graph theory can tell us which substations are the most critical to the grid and then we could use this information to either target or avoid them for manipulation.\n",
    "\n",
    "I created a wrapper class, `ObservationSpaceGraph` that lets us quickly generate graphs from the observation space array, and then we can use the Python package NetworkX to call the graph theory algorithms during agent training.\n",
    "\n",
    "This example notebook uses the code from the simple, four node grid in the original 101 notebook."
   ]
  },
  {
   "cell_type": "code",
   "execution_count": 15,
   "metadata": {},
   "outputs": [
    {
     "data": {
      "text/html": [
       "        <script type=\"text/javascript\">\n",
       "        window.PlotlyConfig = {MathJaxConfig: 'local'};\n",
       "        if (window.MathJax) {MathJax.Hub.Config({SVG: {font: \"STIX-Web\"}});}\n",
       "        if (typeof require !== 'undefined') {\n",
       "        require.undef(\"plotly\");\n",
       "        requirejs.config({\n",
       "            paths: {\n",
       "                'plotly': ['https://cdn.plot.ly/plotly-latest.min']\n",
       "            }\n",
       "        });\n",
       "        require(['plotly'], function(Plotly) {\n",
       "            window._Plotly = Plotly;\n",
       "        });\n",
       "        }\n",
       "        </script>\n",
       "        "
      ]
     },
     "metadata": {},
     "output_type": "display_data"
    }
   ],
   "source": [
    "%matplotlib inline\n",
    "import numpy as np\n",
    "import pandas as pd\n",
    "import matplotlib.pyplot as plt\n",
    "import warnings\n",
    "from utils.visualize_grid import plot_grid\n",
    "from matplotlib.font_manager import FontProperties\n",
    "from plotly.offline import download_plotlyjs, init_notebook_mode, plot, iplot\n",
    "\n",
    "# Connect Plotly in offline mode. \n",
    "init_notebook_mode(connected = True) \n",
    "warnings.simplefilter(action='ignore', category=FutureWarning)"
   ]
  },
  {
   "cell_type": "code",
   "execution_count": 16,
   "metadata": {},
   "outputs": [
    {
     "name": "stderr",
     "output_type": "stream",
     "text": [
      "Using custom reward signal CustomRewardSignal of file /home/nadirsidi/Code/L2RPN/public_data/reward_signal.py\n"
     ]
    }
   ],
   "source": [
    "import os\n",
    "import pypownet.environment\n",
    "import pypownet.runner\n",
    "import networkx as nx\n",
    "\n",
    "# Initialize the env.\n",
    "environment = pypownet.environment.RunEnv(parameters_folder=os.path.abspath('../public_data'),\n",
    "                                          game_level='4_substations',\n",
    "                                          chronic_looping_mode='natural', start_id=0,\n",
    "                                          game_over_mode='hard' )"
   ]
  },
  {
   "cell_type": "code",
   "execution_count": 17,
   "metadata": {},
   "outputs": [],
   "source": [
    "action_space = environment.action_space\n",
    "observation_space = environment.observation_space\n",
    "game = environment.game\n",
    "\n",
    "# Create do_nothing action.\n",
    "action_do_nothing = action_space.get_do_nothing_action()"
   ]
  },
  {
   "cell_type": "code",
   "execution_count": 18,
   "metadata": {},
   "outputs": [],
   "source": [
    "# Run one step in the environment\n",
    "obs_array, *_ = environment.step(action_do_nothing)"
   ]
  },
  {
   "cell_type": "code",
   "execution_count": 19,
   "metadata": {},
   "outputs": [
    {
     "data": {
      "text/plain": [
       "pypownet.environment.Observation"
      ]
     },
     "execution_count": 19,
     "metadata": {},
     "output_type": "execute_result"
    }
   ],
   "source": [
    "# Get the Observation object from the array\n",
    "obs = observation_space.array_to_observation(obs_array)\n",
    "type(obs)"
   ]
  },
  {
   "cell_type": "code",
   "execution_count": 20,
   "metadata": {},
   "outputs": [],
   "source": [
    "# Get the __dict__ attribute & pull out the useful nuggets\n",
    "observation_dict = vars(obs)\n",
    "# observation_dict"
   ]
  },
  {
   "cell_type": "markdown",
   "metadata": {},
   "source": [
    "## Example Using ObservationSpaceGraph Wrapper\n",
    "\n",
    "Create the `obs_space_graph` wrapper by sending it the `observation_space` from environment. Then after each action, we can get the graphs from the observation array returned by `environment.step`\n",
    "\n",
    "Once we have the graphs as Networkx graph objects, we can use the graph algorithms to experiment with different features such as the substations with the highest degree of centrality in the grid."
   ]
  },
  {
   "cell_type": "code",
   "execution_count": 21,
   "metadata": {},
   "outputs": [
    {
     "data": {
      "text/plain": [
       "{1.0: 0.0, 2.0: 0.3333333333333333, 3.0: 0.3333333333333333, 4.0: 1.0}"
      ]
     },
     "execution_count": 21,
     "metadata": {},
     "output_type": "execute_result"
    }
   ],
   "source": [
    "from graph import ObservationSpaceGraph\n",
    "\n",
    "obs_space_graph = ObservationSpaceGraph(observation_space)\n",
    "\n",
    "graphs = obs_space_graph.get_graph(obs_array)\n",
    "\n",
    "# This was originally designed for ranking web pages\n",
    "# The result is a ranking of the substations in the grid taking into account their connectedness & weight (flows)\n",
    "# We might want to toggle the substations with the highest or lowest values\n",
    "nx.pagerank(graphs['obs_G'])\n",
    "\n",
    "# The sum of the fraction of all-pairs shortest paths that passes through node in key\n",
    "# This is a potential measure of how critical a substation is for connecting the grid\n",
    "nx.betweenness_centrality(graphs['obs_G'])\n",
    "\n",
    "# Measure of how central a substation is in the grid\n",
    "nx.degree_centrality(graphs['obs_G'])\n",
    "\n",
    "# Measure of how central a substation is as a producer (uses a directed graph)\n",
    "nx.out_degree_centrality(graphs['obs_DG'])\n",
    "\n",
    "# Measure of how central a substation is as a consumer (uses a directed graph)\n",
    "nx.in_degree_centrality(graphs['obs_DG'])\n"
   ]
  }
 ],
 "metadata": {
  "kernelspec": {
   "display_name": "Python 3",
   "language": "python",
   "name": "python3"
  },
  "language_info": {
   "codemirror_mode": {
    "name": "ipython",
    "version": 3
   },
   "file_extension": ".py",
   "mimetype": "text/x-python",
   "name": "python",
   "nbconvert_exporter": "python",
   "pygments_lexer": "ipython3",
   "version": "3.6.5"
  }
 },
 "nbformat": 4,
 "nbformat_minor": 2
}
