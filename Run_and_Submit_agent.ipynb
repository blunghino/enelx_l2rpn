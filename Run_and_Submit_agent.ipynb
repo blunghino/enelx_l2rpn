{
 "cells": [
  {
   "cell_type": "markdown",
   "metadata": {},
   "source": [
    "<div style=\"background:#FFFFAA\">\n",
    "<img src=\"./utils/LogoL2RPN.jpg\", width=150, ALIGN=\"left\", border=10>\n",
    "<h1>L2RPN Starting Kit </h1> \n",
    "\n",
    "\n",
    "ALL INFORMATION, SOFTWARE, DOCUMENTATION, AND DATA ARE PROVIDED \"AS-IS\". The CDS, CHALEARN, AND/OR OTHER ORGANIZERS OR CODE AUTHORS DISCLAIM ANY EXPRESSED OR IMPLIED WARRANTIES, INCLUDING, BUT NOT LIMITED TO, THE IMPLIED WARRANTIES OF MERCHANTABILITY AND FITNESS FOR ANY PARTICULAR PURPOSE, AND THE WARRANTY OF NON-INFRIGEMENT OF ANY THIRD PARTY'S INTELLECTUAL PROPERTY RIGHTS. IN NO EVENT SHALL AUTHORS AND ORGANIZERS BE LIABLE FOR ANY SPECIAL, \n",
    "INDIRECT OR CONSEQUENTIAL DAMAGES OR ANY DAMAGES WHATSOEVER ARISING OUT OF OR IN CONNECTION WITH THE USE OR PERFORMANCE OF SOFTWARE, DOCUMENTS, MATERIALS, PUBLICATIONS, OR INFORMATION MADE AVAILABLE FOR THE CHALLENGE. \n",
    "</div>"
   ]
  },
  {
   "cell_type": "markdown",
   "metadata": {},
   "source": [
    "<div style=\"background:#FFFFAA\">\n",
    "    <h2>Introduction </h2>\n",
    "    <p> \n",
    "     <br>\n",
    "The goal of this challenge is to use Reinforcement Learning in Power Grid management by designing RL agents to automate the control of the power grid. We are using a power network simulator : <a href=\"https://github.com/MarvinLer/pypownet\">pypownet</a>, it is a simulator that is able to emulate a power grid of any size and electrical properties subject to a set of temporal injections for discretized time-steps.\n",
    "\n",
    "References and credits: <br>\n",
    "Creator of pypownet was Marvin Lerousseau, using Matpower and OpenGym tools. The competition was designed by Isabelle Guyon, Antoine Marot, Benjamin Donnot and Balthazar Donon. Luca Veyrin, Camillo Romero and Kimang Khun are distinguished contributors to make the L2RPN challenge happen. \n",
    " <br> \n",
    "</div>"
   ]
  },
  {
   "cell_type": "markdown",
   "metadata": {},
   "source": [
    "Useful paths for the submission and for data"
   ]
  },
  {
   "cell_type": "code",
   "execution_count": null,
   "metadata": {},
   "outputs": [],
   "source": [
    "model_dir = 'example_submission/'\n",
    "problem_dir = 'utils/ingestion_program/'  \n",
    "score_dir = 'utils/scoring_program/'\n",
    "ref_data = 'utils/public_ref/'\n",
    "ingestion_output = 'utils/logs/'\n",
    "\n",
    "input_dir = 'public_data/'\n",
    "output_dir = 'utils/output/'"
   ]
  },
  {
   "cell_type": "code",
   "execution_count": null,
   "metadata": {},
   "outputs": [],
   "source": [
    "from sys import path;\n",
    "path.append(model_dir); path.append(problem_dir); path.append(score_dir);\n",
    "path.append(input_dir); path.append(output_dir);"
   ]
  },
  {
   "cell_type": "markdown",
   "metadata": {},
   "source": [
    "Useful external libraries for this notebook"
   ]
  },
  {
   "cell_type": "code",
   "execution_count": null,
   "metadata": {},
   "outputs": [],
   "source": [
    "\n",
    "import sys\n",
    "import logging\n",
    "import os\n",
    "#%matplotlib inline\n",
    "# Uncomment the next lines to auto-reload libraries (this causes some problem with pickles in Python 3)\n",
    "%load_ext autoreload\n",
    "%autoreload 2\n",
    "#import seaborn as sns; sns.set()\n",
    "import warnings\n",
    "import numpy as np\n",
    "import pandas as pd\n",
    "import evaluate\n",
    "%matplotlib inline\n",
    "import matplotlib.pyplot as plt\n",
    "import json\n",
    "\n",
    "warnings.simplefilter(action='ignore', category=FutureWarning)"
   ]
  },
  {
   "cell_type": "markdown",
   "metadata": {},
   "source": [
    "<div style=\"background:#FFFFAA\">\n",
    "    <h1> Step 1: Exploratory data analysis </h1>\n",
    "</div>"
   ]
  },
  {
   "cell_type": "markdown",
   "metadata": {},
   "source": [
    "## Electrical grid\n",
    "<div >\n",
    "<img src=\"utils/IEEE14Example.png\", width=750, ALIGN=\"left\", border=20>\n",
    "    <br>\n",
    "    <br>\n",
    "(courtesy of Marvin Lerousseau)\n",
    "</div>"
   ]
  },
  {
   "cell_type": "markdown",
   "metadata": {},
   "source": [
    "During the challenge, a grid of 14 substations is given. 20 lines are connected through the nodes of the grids within substations.\n",
    "\n",
    "explore others notebooks for better understanding of the power network behavior: \n",
    " - Power_Grid_101_notebook.ipynb\n",
    " - visualize_14grid_with_customized_actions.ipynb\n",
    "\n",
    "In our grid environment, we take the case where there are 11 loads and 5 prods. Furthermore, we will only consider chronics over the month of January, the only month for which contestants are tested."
   ]
  },
  {
   "cell_type": "code",
   "execution_count": null,
   "metadata": {},
   "outputs": [],
   "source": [
    "\n",
    "\n",
    "loads_p_file = '_N_loads_p.csv' #active power chronics for loads\n",
    "prods_p_file = '_N_prods_p.csv'  #active power chronics for productions\n",
    "datetimes_file = '_N_datetimes.csv' #timesstamps of the chronics\n",
    "maintenance_file = 'maintenance.csv' #maintenance operation chronics. No maintenance considered in the first challenge\n",
    "hazards_file = 'hazards.csv'   #harzard chronics that disconnect lines. No hazards considered in the first challenge\n",
    "imaps_file = '_N_imaps.csv' #thermal limits of the lines\n",
    "\n",
    "i = 0 # chronics id\n",
    "data_dir = input_dir+\"datasets\" #repository where to find all the chronics for a given difficulty level\n",
    "path = data_dir+'/chronics/0000/'\n"
   ]
  },
  {
   "cell_type": "markdown",
   "metadata": {},
   "source": [
    "We now load all data chronics to later visualize them. They will however be automaticall loaded in pypownet environment when run."
   ]
  },
  {
   "cell_type": "code",
   "execution_count": null,
   "metadata": {},
   "outputs": [],
   "source": [
    "df_loads_p = {}\n",
    "df_prods_p = {}\n",
    "df_datetimes = {}\n",
    "df_maintenance = {}\n",
    "df_hazards = {} \n",
    "\n",
    "df_loads_p[str(i)] = pd.read_csv(path+loads_p_file, sep=';')\n",
    "df_prods_p[str(i)] = pd.read_csv(path+prods_p_file, sep=';')\n",
    "df_datetimes[str(i)] = pd.read_csv(path+datetimes_file, sep=';')\n",
    "df_loads_p[str(i)].index = pd.to_datetime(df_datetimes[str(i)]['date'] + ' ' + df_datetimes[str(i)]['time'])\n",
    "df_prods_p[str(i)].index = pd.to_datetime(df_datetimes[str(i)]['date'] + ' ' + df_datetimes[str(i)]['time'])\n",
    "df_maintenance[str(i)] = pd.read_csv(path+maintenance_file, sep=';')\n",
    "df_maintenance[str(i)].index = pd.to_datetime(df_datetimes[str(i)]['date'] + ' ' + df_datetimes[str(i)]['time'])\n",
    "df_hazards[str(i)] = pd.read_csv(path+hazards_file, sep=';')\n",
    "df_hazards[str(i)].index = pd.to_datetime(df_datetimes[str(i)]['date'] + ' ' + df_datetimes[str(i)]['time'])\n",
    "df_imaps = pd.read_csv(path + imaps_file, sep=';')\n"
   ]
  },
  {
   "cell_type": "markdown",
   "metadata": {},
   "source": [
    "## Loads\n",
    "\n",
    "The following figure shows the active power of consumptions which represents the amount of demand of active power. You can notice the daily seasonality as well as the weekdays and weekend difference in consuming behavior. In our particular case, the load 3_C151.15 at substation 3 is the one which has the highest demand. The loads for the other levels are pretty similar with a load needing much more power than the others."
   ]
  },
  {
   "cell_type": "code",
   "execution_count": null,
   "metadata": {},
   "outputs": [],
   "source": [
    "plt.figure(figsize=[15,4])\n",
    "plt.title('Loads Time Series #'+str(0))\n",
    "plt.xlabel('Time')\n",
    "plt.ylabel('Power (MW)')\n",
    "plt.plot(df_loads_p[str(0)])\n",
    "plt.legend(list(df_loads_p[str(0)]))\n",
    "plt.show()"
   ]
  },
  {
   "cell_type": "markdown",
   "metadata": {},
   "source": [
    "## Production\n",
    "\n",
    "The active power of the productions is shown below. We have a quite stable nuclear production as well as renewable energies, wind and solar, with a high variance. FInally a thermal power plant matches the residual demand."
   ]
  },
  {
   "cell_type": "code",
   "execution_count": null,
   "metadata": {},
   "outputs": [],
   "source": [
    "plt.figure(figsize=[15,4])\n",
    "plt.title('Prods Time Series #'+str(0))\n",
    "plt.xlabel('Time')\n",
    "plt.ylabel('Power (MW)')\n",
    "plt.plot(df_prods_p[str(0)])\n",
    "#plt.legend(list(df_prods_p[str(0)]))\n",
    "plt.legend([\"1 thermic\", \"2 wind turbine\", \"3 nuclear\", \"4 solar\", \"5 solar\"])\n",
    "plt.show()"
   ]
  },
  {
   "cell_type": "markdown",
   "metadata": {},
   "source": [
    "## Maintenance & Hazards\n",
    "\n",
    "Pypownet handle mintenance and hazards in the scenarios. But in this competition there is no hazard and maintenance operations. However overloads can still occur and have to be managed."
   ]
  },
  {
   "cell_type": "markdown",
   "metadata": {},
   "source": [
    "<div style=\"background:#FFFFAA\">\n",
    "<h1>Step 2: Building an Agent</h1>\n",
    "</div>"
   ]
  },
  {
   "cell_type": "markdown",
   "metadata": {},
   "source": [
    "<div style=\"background:#FFFFAA\">\n",
    "    <h2>Building an agent</h2>\n",
    "    <p>\n",
    "We provide simple examples of agent in the `starting-kit/example_submission` directory. We illustrate it here with the most simple agent: the lazy \"do nothing\". To make your own agent, you can change the agent init to load your own model, you can modify the act method to take action with your model and specify a reward, especially if you are doing reinforcement learning.\n",
    "    </div>"
   ]
  },
  {
   "cell_type": "markdown",
   "metadata": {},
   "source": [
    "## Do nothing agent\n",
    "\n",
    "The agent does not take any actions."
   ]
  },
  {
   "cell_type": "code",
   "execution_count": null,
   "metadata": {},
   "outputs": [],
   "source": [
    "import pypownet.agent\n",
    "import pypownet.environment\n",
    "\n",
    "class DoNothingAgent(pypownet.agent.Agent):\n",
    "    \"\"\" The template to be used to create an agent: any controller of the power grid is expected to be a daughter of this\n",
    "    class.\n",
    "    \"\"\"\n",
    "\n",
    "    def __init__(self, environment):\n",
    "        \"\"\"Initialize a new agent.\"\"\"\n",
    "        assert isinstance(environment, pypownet.environment.RunEnv)\n",
    "        self.environment = environment\n",
    "\n",
    "    def act(self, observation):\n",
    "        return self.environment.action_space.get_do_nothing_action()\n",
    "\n",
    "    def feed_reward(self, action, consequent_observation, rewards_aslist):\n",
    "        pass"
   ]
  },
  {
   "cell_type": "markdown",
   "metadata": {},
   "source": [
    "To make a submission on the challenge, you should name your agent Submission and write in submission.py file.\n",
    "\n",
    "Here is an example with the doNothing agent: we changed the name of the agent as Submission and can write it in a .py file by uncommenting the %%writefile"
   ]
  },
  {
   "cell_type": "code",
   "execution_count": null,
   "metadata": {},
   "outputs": [],
   "source": [
    "#%%writefile example_submission/submission.py\n",
    "import pypownet.agent\n",
    "import pypownet.environment\n",
    "\n",
    "class Submission(pypownet.agent.Agent):\n",
    "    \"\"\" The template to be used to create an agent: any controller of the power grid is expected to be a daughter of this\n",
    "    class.\n",
    "    \"\"\"\n",
    "\n",
    "    def __init__(self, environment):\n",
    "        \"\"\"Initialize a new agent.\"\"\"\n",
    "        assert isinstance(environment, pypownet.environment.RunEnv)\n",
    "        self.environment = environment\n",
    "\n",
    "    def act(self, observation):\n",
    "        return self.environment.action_space.get_do_nothing_action()\n",
    "\n",
    "    def feed_reward(self, action, consequent_observation, rewards_aslist):\n",
    "        pass\n",
    "#if you want to load a file (in this directory) names \"model.dupm\"\n",
    "#open(\"program/model.dump\")"
   ]
  },
  {
   "cell_type": "markdown",
   "metadata": {},
   "source": [
    "## Other baselines\n",
    "\n",
    "Uncomment one of the lines below to see the code of the agent : (keep the ??)"
   ]
  },
  {
   "cell_type": "code",
   "execution_count": null,
   "metadata": {},
   "outputs": [],
   "source": [
    "import baseline_agents\n",
    "\n",
    "#??baseline_agents.DoNothing\n",
    "#??baseline_agents.RandomLineSwitch\n",
    "#??baseline_agents.RandomNodeSplitting\n"
   ]
  },
  {
   "cell_type": "markdown",
   "metadata": {},
   "source": [
    "## The Reward and the Score of an agent\n",
    "At each step pypownet return a reward to the agent.\n",
    "\n",
    "This reward is used to compute the Score for ranking participants in this current challenge.\n",
    "the final Score is the sum of the score of each scenario. for a scenario there is two option :\n",
    " - Your agent got a game over, the Score for this scenario is 0\n",
    " - your agent got no game over, the Score of this scenario is the sum of the reward at each timestep of this scenario\n",
    " \n",
    "### Computation of the reward\n",
    "For each timestep pypownet returns a reward : the sum of the squared flow for each line <br>\n",
    "<p>\n",
    "    \\[\n",
    "        R= \\sum_{l\\in lines} \\max\\left(1- \\frac{i_l}{i_{l_{max}}}^2,0\\right)\n",
    "    \\]\n",
    "</p>\n",
    "With $i_l$ the flow on the line l and $i_{l_{max}}$ the maximum allowed flow on this line.<br>\n",
    "The final score on one chronic is the sum of the rewards over the each timestep\n",
    "\n",
    "for better understanding of the reward calulation please look at <code>public_data/reward_function.py</code> for training purposes you can modify this function. \n"
   ]
  },
  {
   "cell_type": "markdown",
   "metadata": {},
   "source": [
    "### Run an agent \n",
    "\n",
    "Once you have defined an agent, you can run it under an environment over scenarios.\n",
    "\n",
    "NB: The runner from pypownet is perfectly fine but for the need of the leaderboard and its visualizations, the runner was augmented. The \"augmented\" version can be found in the starting kit. This is the runner that will run on the Codalab competition server. So before making a submission, make sure it runs with this runner as well. In the following you can choose one or the other, but to obtain a score as on the leaderboard, you need to run the \"augmented\" runner."
   ]
  },
  {
   "cell_type": "code",
   "execution_count": null,
   "metadata": {},
   "outputs": [],
   "source": [
    "\n",
    "#from pypownet.runner import Runner\n",
    "from runner import Runner #an override of pypownet.runner \n",
    "import os\n",
    "import pypownet.environment\n",
    "\n",
    "data_dir = 'public_data'  \n",
    "\n",
    "def set_environement(game_level = \"datasets\", start_id=0):\n",
    "    \"\"\"\n",
    "        Load the first chronic (scenario) in the directory public_data/datasets \n",
    "    \"\"\"\n",
    "    return pypownet.environment.RunEnv(parameters_folder=os.path.abspath(input_dir),\n",
    "                                              game_level=game_level,\n",
    "                                              chronic_looping_mode='natural', start_id=start_id,\n",
    "                                              game_over_mode=\"soft\")\n",
    "\n",
    "def run_agent(environment, agent, number_iterations):\n",
    "    # Instanciate a runner, that will save the run statistics within the log_path file, to be parsed and processed\n",
    "    # by the scoring program\n",
    "    log_path = os.path.abspath(os.path.join(ingestion_output, 'runner.log'))\n",
    "    machinelog_filepath = os.path.abspath(os.path.join(ingestion_output,'machine_log.json'))# set to None \n",
    "    phase_runner = Runner(environment, submitted_controler, verbose=True, vverbose=False,\n",
    "                                          log_filepath=log_path, machinelog_filepath=machinelog_filepath)\n",
    "    phase_runner.ch.setLevel(logging.ERROR)\n",
    "    # Run the planned experiment of this phase with the submitted model\n",
    "    score = phase_runner.loop(iterations=number_iterations)\n",
    "    print(\"cumulative reward : {}\".format(score))\n",
    "    return score\n",
    "\n",
    "\n"
   ]
  },
  {
   "cell_type": "markdown",
   "metadata": {},
   "source": [
    "Now run it. \n",
    "\n",
    "You could load the agent from your own submission in submission.py. We explain after how to make a submission"
   ]
  },
  {
   "cell_type": "code",
   "execution_count": null,
   "metadata": {
    "lines_to_next_cell": 2
   },
   "outputs": [],
   "source": [
    "import submission #existing exemple as submission.py\n",
    "\n",
    "NUMBER_ITERATIONS = 100 # The number of iterations can be changed\n",
    "\n",
    "sys.path.append(model_dir)\n",
    "\n",
    "if not os.path.exists(ingestion_output):\n",
    "    os.makedirs(ingestion_output)\n",
    "log_path = os.path.abspath(os.path.join(ingestion_output, 'runner.log'))\n",
    "open(log_path, 'w').close()\n",
    "\n",
    "\n",
    "# Uncoment one of the lines below\n",
    "#agent = baseline_agents.DoNothing\n",
    "#agent = baseline_agents.RandomLineSwitch\n",
    "#agent = baseline_agents.RandomNodeSplitting\n",
    "\n",
    "#or you can try your own submission\n",
    "agent = submission.Submission\n",
    "#agent = DoNothingAgent\n",
    "env = set_environement()\n",
    "\n",
    "submitted_controler = agent(env)\n",
    "_ = run_agent(env, submitted_controler, NUMBER_ITERATIONS)\n"
   ]
  },
  {
   "cell_type": "markdown",
   "metadata": {},
   "source": [
    "**WARNING**: the following cell to compute the leaderboard score will not run if you did not use the \"augmented\" runner previously."
   ]
  },
  {
   "cell_type": "code",
   "execution_count": null,
   "metadata": {},
   "outputs": [],
   "source": [
    "import evaluate\n",
    "scoring_function = evaluate.extract_json\n",
    "action_space = evaluate.get_action_space(os.path.join('utils',\"ref\"))\n",
    "_ = scoring_function(os.path.join(ingestion_output, \"machine_log.json\"),action_space)"
   ]
  },
  {
   "cell_type": "markdown",
   "metadata": {},
   "source": [
    "<div style=\"background:#FFFFAA\">\n",
    "    <b> Save the best agent </b> it should be a class Submission and save in \"example_submission/submission.py\".  Uncomment the line <i>%%writefile example_submission/submission.py to save the agent. </i>\n",
    "</div>"
   ]
  },
  {
   "cell_type": "markdown",
   "metadata": {},
   "source": [
    "<div style=\"background:#FFFFAA\">\n",
    "<h1> Step 3: Making a submission </h1> \n",
    "\n",
    "<h2> Unit testing </h2> \n",
    "\n",
    "It is <b><span style=\"color:red\">important that you test your submission files before submitting them</span></b>. All you have to do to make a submission is create or modify the <code>Sumbission</code> class the file <code>submission.py</code>  in the <code>starting_kit/example_submission/</code> directory, then run this test to make sure everything works fine. This is the actual program that will be run on the server to test your submission. <br>\n",
    "\n",
    "take note that on codalab, your local directory is <code>program/</code>. Then if you want to load the file <code>model.dump</code> run : <code>open(\"program/model.dum\")</code> even if the file is in at the root of your submission dir.\n",
    "</div>"
   ]
  },
  {
   "cell_type": "code",
   "execution_count": null,
   "metadata": {},
   "outputs": [],
   "source": [
    "#codalab command line used on the competition server. So it is best to test it as it is, rather than directly importing the related python method here and execute it. \n",
    "#you are supposed to run python 3 here. If \"!python\" command does not work, try \"!python3\" \n",
    "!python $problem_dir/ingestion.py $input_dir utils/res $problem_dir $model_dir"
   ]
  },
  {
   "cell_type": "markdown",
   "metadata": {},
   "source": [
    "<div style=\"background:#FFFFAA\">\n",
    "Also test the scoring program:\n",
    "    </div>"
   ]
  },
  {
   "cell_type": "code",
   "execution_count": null,
   "metadata": {
    "lines_to_next_cell": 2
   },
   "outputs": [],
   "source": [
    "scoring_output_dir = 'results'\n",
    "\n",
    "#you are supposed to run python3 here. If \"!python\" command does not work, try \"!python3\" \n",
    "!python $score_dir/evaluate.py utils $scoring_output_dir\n",
    "print(\"watch : http:/view/\"+ scoring_output_dir +\"/scores.html\")"
   ]
  },
  {
   "cell_type": "markdown",
   "metadata": {},
   "source": [
    "<div style=\"background:#FFFFAA\">\n",
    "    <h1> Preparing the submission </h1>\n",
    "\n",
    "Zip the contents of `sample_code_submission/` (without the directory), or download the challenge public_data and run the command in the previous cell, after replacing sample_data by public_data.\n",
    "Then zip the contents of `sample_result_submission/` (without the directory).\n",
    "<b><span style=\"color:red\">Do NOT zip the data with your submissions</span></b>."
   ]
  },
  {
   "cell_type": "code",
   "execution_count": null,
   "metadata": {
    "lines_to_next_cell": 0
   },
   "outputs": [],
   "source": [
    "import datetime \n",
    "import zipfile\n",
    "\n",
    "def zipdir(path, ziph):\n",
    "    # ziph is zipfile handle\n",
    "    for root, dirs, files in os.walk(path):\n",
    "        for file in files:\n",
    "            ziph.write(os.path.join(root, file))\n",
    "\n",
    "the_date = datetime.datetime.now().strftime(\"%y-%m-%d-%H-%M\")\n",
    "sample_code_submission = 'sample_code_submission_' + the_date + '.zip' \n",
    "\n",
    "with zipfile.ZipFile(sample_code_submission, 'w', zipfile.ZIP_DEFLATED) as zipf:\n",
    "    zipdir(model_dir,zipf)\n",
    "print(\"Submit one of these files:\\n\" + sample_code_submission + \"\\n\")"
   ]
  },
  {
   "cell_type": "code",
   "execution_count": null,
   "metadata": {
    "lines_to_next_cell": 0
   },
   "outputs": [],
   "source": [
    "\n",
    "\n"
   ]
  },
  {
   "cell_type": "code",
   "execution_count": null,
   "metadata": {},
   "outputs": [],
   "source": []
  },
  {
   "cell_type": "code",
   "execution_count": null,
   "metadata": {},
   "outputs": [],
   "source": []
  }
 ],
 "metadata": {
  "jupytext": {
   "formats": "ipynb,py"
  },
  "kernelspec": {
   "display_name": "Python 3",
   "language": "python",
   "name": "python3"
  },
  "language_info": {
   "codemirror_mode": {
    "name": "ipython",
    "version": 3
   },
   "file_extension": ".py",
   "mimetype": "text/x-python",
   "name": "python",
   "nbconvert_exporter": "python",
   "pygments_lexer": "ipython3",
   "version": "3.6.7"
  }
 },
 "nbformat": 4,
 "nbformat_minor": 2
}
