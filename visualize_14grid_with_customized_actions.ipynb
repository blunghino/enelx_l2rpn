{
 "cells": [
  {
   "cell_type": "markdown",
   "metadata": {},
   "source": [
    "<br>"
   ]
  },
  {
   "cell_type": "markdown",
   "metadata": {},
   "source": [
    "# Grid Visualization\n",
    "\n",
    "This notebook is created to visualize simple changes over the IEEE 14 grid and to gain a better understanding on how to execute actions using pypownet. The idea is to present a straightforward notebook where the user could pick any substation id among the grid and play modifying its internal configuration to see the changes.\n",
    "\n",
    "In order to visualize the grid, the external python script `visualize_grid.py` has to be imported (the starting kit already holds the mentioned code). However, the script relies on other libraries more than those required by pypownet. If you have not installed them yet, please try the following in your terminal.\n",
    "<br><br>\n",
    "`pip3 install --user networkx plotly`<br>\n",
    "`jupyter labextension install @jupyterlab/plotly-extension` if using jupyter lab\n",
    "<br>"
   ]
  },
  {
   "cell_type": "code",
   "execution_count": 43,
   "metadata": {},
   "outputs": [
    {
     "data": {
      "text/html": [
       "        <script type=\"text/javascript\">\n",
       "        window.PlotlyConfig = {MathJaxConfig: 'local'};\n",
       "        if (window.MathJax) {MathJax.Hub.Config({SVG: {font: \"STIX-Web\"}});}\n",
       "        if (typeof require !== 'undefined') {\n",
       "        require.undef(\"plotly\");\n",
       "        requirejs.config({\n",
       "            paths: {\n",
       "                'plotly': ['https://cdn.plot.ly/plotly-latest.min']\n",
       "            }\n",
       "        });\n",
       "        require(['plotly'], function(Plotly) {\n",
       "            window._Plotly = Plotly;\n",
       "        });\n",
       "        }\n",
       "        </script>\n",
       "        "
      ]
     },
     "metadata": {},
     "output_type": "display_data"
    }
   ],
   "source": [
    "%matplotlib inline\n",
    "import matplotlib.pyplot as plt\n",
    "import numpy as np\n",
    "from utils.visualize_grid import plot_grid\n",
    "from plotly.offline import download_plotlyjs, init_notebook_mode, plot, iplot \n",
    "\n",
    "# Connect Plotly in offline mode. \n",
    "init_notebook_mode(connected = True) "
   ]
  },
  {
   "cell_type": "markdown",
   "metadata": {},
   "source": [
    "It is important as well to import the pypownet's **environment** and **runner** which allows us to get the respective grid's state with all power flow results."
   ]
  },
  {
   "cell_type": "code",
   "execution_count": 44,
   "metadata": {},
   "outputs": [
    {
     "name": "stderr",
     "output_type": "stream",
     "text": [
      "Using custom reward signal CustomRewardSignal of file /home/luca/cours/stage/TEST/codalab_bundle/starting_kit/public_data/reward_signal.py\n"
     ]
    }
   ],
   "source": [
    "import os\n",
    "import pypownet.environment\n",
    "import pypownet.runner\n",
    "\n",
    "# Initialize the env.\n",
    "environment = pypownet.environment.RunEnv(parameters_folder=os.path.abspath('public_data'),\n",
    "                                          game_level='datasets',\n",
    "                                          chronic_looping_mode='natural', start_id=0,\n",
    "                                          game_over_mode='hard' )"
   ]
  },
  {
   "cell_type": "code",
   "execution_count": 45,
   "metadata": {},
   "outputs": [],
   "source": [
    "# print dir(environment)\n",
    "action_space = environment.action_space\n",
    "observation_space = environment.observation_space\n",
    "game = environment.game"
   ]
  },
  {
   "cell_type": "markdown",
   "metadata": {},
   "source": [
    "## What is an action?\n",
    "\n",
    "An action is that an intercation an agent can do with its environment. It our specific case, we emulate what operators can do in a control room to control the system. Typically, there are two actions allowed on the grid:\n",
    "\n",
    "- Change the status of a line (switch ON or OFF tranmission lines)</li>\n",
    "- Switch to another busbar the substation's elements, such as productions, consumptions or power lines in the same substation (node-splitting).\n",
    "    \n",
    "These two types of emulated actions constitute an **Action** in pypownet. The *action vector* is concatenation of two binary lists: the first list corresponds to all elements switches in all ***substations*** and the other for ***transmission lines***. For the sake of simplicity, the following figure is a representation of the action vector for the four substation network you saw in the 101_notebook.\n",
    "\n",
    "<img src=\"http://i66.tinypic.com/2vmj682.jpg\" width=850 ALIGN=\"middle\">\n",
    "\n",
    "At this point you may notice some elements inside a substation list are tagged as **or** and **ex**. These elements belong uniquely to the transmission switch associated with one extreme of a line. By convention, all lines should have an **or**igin and an **ex**tremity as we indicate as follows.\n",
    "\n",
    "<img src=\"http://i63.tinypic.com/2ccv2ac.png\" width=350 ALIGN=\"middle\">"
   ]
  },
  {
   "cell_type": "markdown",
   "metadata": {},
   "source": [
    "### How to interpret the action vector?\n",
    "\n",
    "The action vector is an array of binary numbers with all action allowed in the grid. By default in pypownet, all elements in the grid are in the state ON or online and connected to a single busbar in a substation. But what do exactly these binary values mean? \n",
    "\n",
    "<img src=\"http://i64.tinypic.com/i2oto7.jpg\" width=230 ALIGN=\"middle\">\n",
    "\n",
    "1. Action in transmission lines: <br>\n",
    "1.1. A value of 1 in the **line list** means ***change*** the current status of a line (if a line is ON, it will switch it off and viceversa).<br>\n",
    "1.2. A value of 0 in the **line list** means ***do not change*** the current status of a line (if a line is ON, it will remain ON and viceversa).\n",
    "2. Action in substations: <br>\n",
    "2.1. A value of 1 in the **substation list** means ***switch*** the selected element to the other busbar in the same substation (For instance a or transmission is connected to one busbar then it will be switch to the second one in a double busbar configuration). <br>\n",
    "2.2. A value of 0 in the **substation list** means ***do not switch*** the selected element to the other busbar in the same substation (For instance a or transmission will remain connected to the same busbar where it was connected before the action).\n",
    "\n",
    "***\n",
    "For a better understading, please refer to the official [pypownet documentation](https://pypownet.readthedocs.io/en/latest/env_info.html#action-understanding) and the Introduction to transmission system operation [notebook](Power_Grid_101_notebook.ipynb).\n",
    "***"
   ]
  },
  {
   "cell_type": "markdown",
   "metadata": {},
   "source": [
    "Let's now initialize the action class that will be used later to make changes on the grid."
   ]
  },
  {
   "cell_type": "code",
   "execution_count": 46,
   "metadata": {},
   "outputs": [],
   "source": [
    "action = action_space.get_do_nothing_action(as_class_Action=True)"
   ]
  },
  {
   "cell_type": "markdown",
   "metadata": {},
   "source": [
    "### Chose a substation id"
   ]
  },
  {
   "cell_type": "code",
   "execution_count": 38,
   "metadata": {},
   "outputs": [],
   "source": [
    "# ++ ++ ++ ++ ++ ++ ++ ++ ++ ++ ++ ++ ++ ++ ++ ++ ++ ++ ++ ++ ++ ++ ++ \n",
    "# Play with this variable to see the change in topology for other nodes\n",
    "\n",
    "sub_id = 2\n",
    "\n",
    "# ++ ++ ++ ++ ++ ++ ++ ++ ++ ++ ++ ++ ++ ++ ++ ++ ++ ++ ++ ++ ++ ++ ++ \n",
    "\n",
    "expected_target_configuration = action_space.get_number_elements_of_substation(sub_id)\n",
    "target_configuration = np.zeros(expected_target_configuration)"
   ]
  },
  {
   "cell_type": "markdown",
   "metadata": {},
   "source": [
    "### Target configuration\n",
    "The target configuration is a binary array whose numbers represent the action that will be applied for all elements at a respective substation. The array follows some order which is indicated bellow. \n",
    "\n",
    "`target_configuration = [prod, consp, or_line1, or_line2, ....., ex_line1, ex_line2,..]`"
   ]
  },
  {
   "cell_type": "code",
   "execution_count": 39,
   "metadata": {},
   "outputs": [
    {
     "name": "stdout",
     "output_type": "stream",
     "text": [
      "Expected configuration length for SE 2 -> 6\n",
      "Target configuration array:\n",
      "[0. 0. 0. 0. 0. 0.]\n"
     ]
    }
   ],
   "source": [
    "print ('Expected configuration length for SE {} -> {}'.format(sub_id, \n",
    "                                                             action_space.get_number_elements_of_substation(sub_id)))\n",
    "\n",
    "print ('Target configuration array:')\n",
    "print (target_configuration)"
   ]
  },
  {
   "cell_type": "code",
   "execution_count": 40,
   "metadata": {},
   "outputs": [
    {
     "name": "stdout",
     "output_type": "stream",
     "text": [
      "new_config =  [0, 0, 0, 0, 0, 0]\n",
      "[0 0 0 0 0 0 0 0 0 0 0 0 0 0 0 0 0 0 0 0 0 0 0 0 0 0 0 0 0 0 0 0 0 0 0 0 0\n",
      " 0 0 0 0 0 0 0 0 0 0 0 0 0 0 0 0 0 0 0 0 0 0 0 0 0 0 0 0 0 0 0 0 0 0 0 0 0\n",
      " 0 0]\n"
     ]
    }
   ],
   "source": [
    "# ++ ++ ++ ++ ++ ++ ++ ++ ++ ++ ++ ++ ++ ++ ++ ++ ++ ++ ++ ++ ++ ++ ++ \n",
    "# Play with this variable to see the change in topology for other nodes\n",
    "\n",
    "#target_configuration[-1] = 1\n",
    "\n",
    "# ++ ++ ++ ++ ++ ++ ++ ++ ++ ++ ++ ++ ++ ++ ++ ++ ++ ++ ++ ++ ++ ++ ++ \n",
    "\n",
    "new_config = list(target_configuration.astype(int))\n",
    "print(\"new_config = \", list(new_config))\n",
    "\n",
    "# Set new switches to the new state.\n",
    "action_space.set_substation_switches_in_action(action,\n",
    "                                               sub_id,\n",
    "                                               new_config)\n",
    "print (action)"
   ]
  },
  {
   "cell_type": "markdown",
   "metadata": {},
   "source": [
    "## Visualize the grid\n",
    "\n",
    "Finally let's display the grid with the action vector."
   ]
  },
  {
   "cell_type": "code",
   "execution_count": 41,
   "metadata": {},
   "outputs": [],
   "source": [
    "# Run one step\n",
    "\n",
    "obs_ary, *_= environment.step(action.as_array())\n",
    "obs = observation_space.array_to_observation(obs_ary)"
   ]
  },
  {
   "cell_type": "code",
   "execution_count": 47,
   "metadata": {},
   "outputs": [
    {
     "data": {
      "application/vnd.plotly.v1+json": {
       "config": {
        "linkText": "Export to plot.ly",
        "plotlyServerURL": "https://plot.ly",
        "responsive": true,
        "showLink": false
       },
       "data": [
        {
         "hoverinfo": "none",
         "line": {
          "color": "red",
          "width": 6
         },
         "mode": "lines",
         "type": "scatter",
         "uid": "43c74894-a0f2-4dbb-85f0-a1bf6193d6da",
         "x": [],
         "y": []
        },
        {
         "hoverinfo": "none",
         "line": {
          "color": "#888",
          "width": 1.4
         },
         "mode": "lines",
         "type": "scatter",
         "uid": "95082fff-7465-4250-9268-4d747575b6be",
         "x": [
          -280,
          -100,
          null,
          -280,
          -80,
          null,
          -100,
          366,
          null,
          -100,
          350,
          null,
          -100,
          -80,
          null,
          366,
          350,
          null,
          350,
          -80,
          null,
          350,
          380,
          null,
          350,
          326,
          null,
          -80,
          -64,
          null,
          -64,
          -40,
          null,
          -64,
          -152,
          null,
          -64,
          79,
          null,
          380,
          438,
          null,
          380,
          326,
          null,
          326,
          222,
          null,
          326,
          200,
          null,
          200,
          79,
          null,
          -152,
          -40,
          null,
          -40,
          222,
          null
         ],
         "y": [
          -81,
          -270,
          null,
          -81,
          -54,
          null,
          -270,
          -270,
          null,
          -270,
          -70,
          null,
          -270,
          -54,
          null,
          -270,
          -70,
          null,
          -70,
          -54,
          null,
          -70,
          0,
          null,
          -70,
          70,
          null,
          -54,
          54,
          null,
          54,
          270,
          null,
          54,
          270,
          null,
          54,
          162,
          null,
          0,
          0,
          null,
          0,
          70,
          null,
          70,
          270,
          null,
          70,
          108,
          null,
          108,
          162,
          null,
          270,
          270,
          null,
          270,
          270,
          null
         ]
        },
        {
         "hoverinfo": "text",
         "marker": {
          "color": [
           "rgb(227,26,28)",
           "rgb(227,26,28)",
           "rgb(227,26,28)",
           "rgb(31,120,180)",
           "rgb(31,120,180)",
           "rgb(227,26,28)",
           "rgb(31,120,180)",
           "rgb(227,26,28)",
           "rgb(31,120,180)",
           "rgb(31,120,180)",
           "rgb(31,120,180)",
           "rgb(31,120,180)",
           "rgb(31,120,180)",
           "rgb(31,120,180)"
          ],
          "line": {
           "color": "rgb(100,100,100)",
           "width": 2
          },
          "size": [
           47,
           47,
           47,
           32,
           32,
           47,
           32,
           47,
           32,
           32,
           32,
           32,
           32,
           32
          ]
         },
         "mode": "markers+text",
         "text": [
          "Results:<br>Prod: 91.1 MW<br>TLor{1-2} 52.2 MW<br>TLor{1-5} 38.9 MW",
          "Results:<br>Prod: 58.9 MW<br>Load: 19.3 MW<br>TLor{2-3} 22.7 MW<br>TLor{2-4} 37.2 MW<br>TLor{2-5} 31.1 MW<br>TLex{2-1} -51.3 MW",
          "Results:<br>Prod: 86.8 MW<br>Load: 86.9 MW<br>TLor{3-4} 21.5 MW<br>TLex{3-2} -21.8 MW",
          "Results:<br>Load: 42.9 MW<br>TLor{4-5} -26.3 MW<br>TLor{4-7} 25.9 MW<br>TLor{4-9} 14.7 MW<br>TLex{4-2} -36.4 MW<br>TLex{4-3} -20.4 MW",
          "Results:<br>Load: 6.7 MW<br>TLor{5-6} 35.7 MW<br>TLex{5-1} -38.1 MW<br>TLex{5-2} -30.6 MW<br>TLex{5-4} 26.4 MW",
          "Results:<br>Prod: 0.0 MW<br>Load: 9.8 MW<br>TLor{6-13} 14.9 MW<br>TLor{6-12} 6.6 MW<br>TLor{6-11} 4.7 MW<br>TLex{6-5} -35.7 MW",
          "Results:<br>TLor{7-8} 0.0 MW<br>TLor{7-9} 25.9 MW<br>TLex{7-4} -25.9 MW",
          "Results:<br>Prod: 0.0 MW<br>TLex{8-7} -0.0 MW",
          "Results:<br>Load: 25.3 MW<br>TLor{9-14} 9.5 MW<br>TLor{9-10} 6.0 MW<br>TLex{9-4} -14.7 MW<br>TLex{9-7} -25.9 MW",
          "Results:<br>Load: 7.9 MW<br>TLor{10-11} -1.7 MW<br>TLex{10-9} -6.0 MW",
          "Results:<br>Load: 2.9 MW<br>TLex{11-6} -4.6 MW<br>TLex{11-10} 1.7 MW",
          "Results:<br>Load: 5.4 MW<br>TLor{12-13} 1.1 MW<br>TLex{12-6} -6.5 MW",
          "Results:<br>Load: 11.9 MW<br>TLor{13-14} 3.8 MW<br>TLex{13-6} -14.7 MW<br>TLex{13-12} -1.1 MW",
          "Results:<br>Load: 13.0 MW<br>TLex{14-9} -9.3 MW<br>TLex{14-13} -3.8 MW"
         ],
         "textfont": {
          "color": "rgb(50,50,50)",
          "size": 9
         },
         "textposition": [
          "top center",
          "top left",
          "middle right",
          "bottom left",
          "bottom right",
          "middle left",
          "top center",
          "bottom center",
          "bottom left",
          "top center",
          "bottom center",
          "middle left",
          "bottom right",
          "middle right"
         ],
         "type": "scatter",
         "uid": "6c314553-5b44-480a-bb4a-0b6242b4bdb7",
         "x": [
          -280,
          -100,
          366,
          350,
          -80,
          -64,
          380,
          438,
          326,
          200,
          79,
          -152,
          -40,
          222
         ],
         "y": [
          -81,
          -270,
          -270,
          -70,
          -54,
          54,
          0,
          0,
          70,
          108,
          162,
          270,
          270,
          270
         ]
        }
       ],
       "layout": {
        "annotations": [
         {
          "font": {
           "color": "rgb(255,255,255)",
           "size": 10
          },
          "showarrow": false,
          "text": "1",
          "x": -280,
          "xref": "x",
          "y": -81,
          "yref": "y"
         },
         {
          "font": {
           "color": "rgb(255,255,255)",
           "size": 10
          },
          "showarrow": false,
          "text": "2",
          "x": -100,
          "xref": "x",
          "y": -270,
          "yref": "y"
         },
         {
          "font": {
           "color": "rgb(255,255,255)",
           "size": 10
          },
          "showarrow": false,
          "text": "3",
          "x": 366,
          "xref": "x",
          "y": -270,
          "yref": "y"
         },
         {
          "font": {
           "color": "rgb(255,255,255)",
           "size": 10
          },
          "showarrow": false,
          "text": "4",
          "x": 350,
          "xref": "x",
          "y": -70,
          "yref": "y"
         },
         {
          "font": {
           "color": "rgb(255,255,255)",
           "size": 10
          },
          "showarrow": false,
          "text": "5",
          "x": -80,
          "xref": "x",
          "y": -54,
          "yref": "y"
         },
         {
          "font": {
           "color": "rgb(255,255,255)",
           "size": 10
          },
          "showarrow": false,
          "text": "6",
          "x": -64,
          "xref": "x",
          "y": 54,
          "yref": "y"
         },
         {
          "font": {
           "color": "rgb(255,255,255)",
           "size": 10
          },
          "showarrow": false,
          "text": "7",
          "x": 380,
          "xref": "x",
          "y": 0,
          "yref": "y"
         },
         {
          "font": {
           "color": "rgb(255,255,255)",
           "size": 10
          },
          "showarrow": false,
          "text": "8",
          "x": 438,
          "xref": "x",
          "y": 0,
          "yref": "y"
         },
         {
          "font": {
           "color": "rgb(255,255,255)",
           "size": 10
          },
          "showarrow": false,
          "text": "9",
          "x": 326,
          "xref": "x",
          "y": 70,
          "yref": "y"
         },
         {
          "font": {
           "color": "rgb(255,255,255)",
           "size": 10
          },
          "showarrow": false,
          "text": "10",
          "x": 200,
          "xref": "x",
          "y": 108,
          "yref": "y"
         },
         {
          "font": {
           "color": "rgb(255,255,255)",
           "size": 10
          },
          "showarrow": false,
          "text": "11",
          "x": 79,
          "xref": "x",
          "y": 162,
          "yref": "y"
         },
         {
          "font": {
           "color": "rgb(255,255,255)",
           "size": 10
          },
          "showarrow": false,
          "text": "12",
          "x": -152,
          "xref": "x",
          "y": 270,
          "yref": "y"
         },
         {
          "font": {
           "color": "rgb(255,255,255)",
           "size": 10
          },
          "showarrow": false,
          "text": "13",
          "x": -40,
          "xref": "x",
          "y": 270,
          "yref": "y"
         },
         {
          "font": {
           "color": "rgb(255,255,255)",
           "size": 10
          },
          "showarrow": false,
          "text": "14",
          "x": 222,
          "xref": "x",
          "y": 270,
          "yref": "y"
         }
        ],
        "margin": {
         "b": 10,
         "l": 5,
         "r": 5,
         "t": 10
        },
        "showlegend": false,
        "xaxis": {
         "showgrid": false,
         "showticklabels": false,
         "zeroline": false
        },
        "yaxis": {
         "showgrid": false,
         "showticklabels": false,
         "zeroline": false
        }
       }
      },
      "text/html": [
       "<div>\n",
       "        \n",
       "        \n",
       "            <div id=\"a2af728b-ce3c-4856-ac55-630412e9b870\" class=\"plotly-graph-div\" style=\"height:525px; width:100%;\"></div>\n",
       "            <script type=\"text/javascript\">\n",
       "                require([\"plotly\"], function(Plotly) {\n",
       "                    window.PLOTLYENV=window.PLOTLYENV || {};\n",
       "                    window.PLOTLYENV.BASE_URL='https://plot.ly';\n",
       "                    \n",
       "                if (document.getElementById(\"a2af728b-ce3c-4856-ac55-630412e9b870\")) {\n",
       "                    Plotly.newPlot(\n",
       "                        'a2af728b-ce3c-4856-ac55-630412e9b870',\n",
       "                        [{\"hoverinfo\": \"none\", \"line\": {\"color\": \"red\", \"width\": 6}, \"mode\": \"lines\", \"type\": \"scatter\", \"uid\": \"897da706-5657-43a0-b2f9-dc9fc5d78de5\", \"x\": [], \"y\": []}, {\"hoverinfo\": \"none\", \"line\": {\"color\": \"#888\", \"width\": 1.4}, \"mode\": \"lines\", \"type\": \"scatter\", \"uid\": \"3b33e7ff-aa7d-4c70-a36e-811dc93ccb4d\", \"x\": [-280, -100, null, -280, -80, null, -100, 366, null, -100, 350, null, -100, -80, null, 366, 350, null, 350, -80, null, 350, 380, null, 350, 326, null, -80, -64, null, -64, -40, null, -64, -152, null, -64, 79, null, 380, 438, null, 380, 326, null, 326, 222, null, 326, 200, null, 200, 79, null, -152, -40, null, -40, 222, null], \"y\": [-81, -270, null, -81, -54, null, -270, -270, null, -270, -70, null, -270, -54, null, -270, -70, null, -70, -54, null, -70, 0, null, -70, 70, null, -54, 54, null, 54, 270, null, 54, 270, null, 54, 162, null, 0, 0, null, 0, 70, null, 70, 270, null, 70, 108, null, 108, 162, null, 270, 270, null, 270, 270, null]}, {\"hoverinfo\": \"text\", \"marker\": {\"color\": [\"rgb(227,26,28)\", \"rgb(227,26,28)\", \"rgb(227,26,28)\", \"rgb(31,120,180)\", \"rgb(31,120,180)\", \"rgb(227,26,28)\", \"rgb(31,120,180)\", \"rgb(227,26,28)\", \"rgb(31,120,180)\", \"rgb(31,120,180)\", \"rgb(31,120,180)\", \"rgb(31,120,180)\", \"rgb(31,120,180)\", \"rgb(31,120,180)\"], \"line\": {\"color\": \"rgb(100,100,100)\", \"width\": 2}, \"size\": [47.0, 47.0, 47.0, 32.0, 32.0, 47.0, 32.0, 47.0, 32.0, 32.0, 32.0, 32.0, 32.0, 32.0]}, \"mode\": \"markers+text\", \"text\": [\"Results:<br>Prod: 91.1 MW<br>TLor{1-2} 52.2 MW<br>TLor{1-5} 38.9 MW\", \"Results:<br>Prod: 58.9 MW<br>Load: 19.3 MW<br>TLor{2-3} 22.7 MW<br>TLor{2-4} 37.2 MW<br>TLor{2-5} 31.1 MW<br>TLex{2-1} -51.3 MW\", \"Results:<br>Prod: 86.8 MW<br>Load: 86.9 MW<br>TLor{3-4} 21.5 MW<br>TLex{3-2} -21.8 MW\", \"Results:<br>Load: 42.9 MW<br>TLor{4-5} -26.3 MW<br>TLor{4-7} 25.9 MW<br>TLor{4-9} 14.7 MW<br>TLex{4-2} -36.4 MW<br>TLex{4-3} -20.4 MW\", \"Results:<br>Load: 6.7 MW<br>TLor{5-6} 35.7 MW<br>TLex{5-1} -38.1 MW<br>TLex{5-2} -30.6 MW<br>TLex{5-4} 26.4 MW\", \"Results:<br>Prod: 0.0 MW<br>Load: 9.8 MW<br>TLor{6-13} 14.9 MW<br>TLor{6-12} 6.6 MW<br>TLor{6-11} 4.7 MW<br>TLex{6-5} -35.7 MW\", \"Results:<br>TLor{7-8} 0.0 MW<br>TLor{7-9} 25.9 MW<br>TLex{7-4} -25.9 MW\", \"Results:<br>Prod: 0.0 MW<br>TLex{8-7} -0.0 MW\", \"Results:<br>Load: 25.3 MW<br>TLor{9-14} 9.5 MW<br>TLor{9-10} 6.0 MW<br>TLex{9-4} -14.7 MW<br>TLex{9-7} -25.9 MW\", \"Results:<br>Load: 7.9 MW<br>TLor{10-11} -1.7 MW<br>TLex{10-9} -6.0 MW\", \"Results:<br>Load: 2.9 MW<br>TLex{11-6} -4.6 MW<br>TLex{11-10} 1.7 MW\", \"Results:<br>Load: 5.4 MW<br>TLor{12-13} 1.1 MW<br>TLex{12-6} -6.5 MW\", \"Results:<br>Load: 11.9 MW<br>TLor{13-14} 3.8 MW<br>TLex{13-6} -14.7 MW<br>TLex{13-12} -1.1 MW\", \"Results:<br>Load: 13.0 MW<br>TLex{14-9} -9.3 MW<br>TLex{14-13} -3.8 MW\"], \"textfont\": {\"color\": \"rgb(50,50,50)\", \"size\": 9}, \"textposition\": [\"top center\", \"top left\", \"middle right\", \"bottom left\", \"bottom right\", \"middle left\", \"top center\", \"bottom center\", \"bottom left\", \"top center\", \"bottom center\", \"middle left\", \"bottom right\", \"middle right\"], \"type\": \"scatter\", \"uid\": \"b0744ac4-9436-4cf1-85ed-1fec558d147a\", \"x\": [-280, -100, 366, 350, -80, -64, 380, 438, 326, 200, 79, -152, -40, 222], \"y\": [-81, -270, -270, -70, -54, 54, 0, 0, 70, 108, 162, 270, 270, 270]}],\n",
       "                        {\"annotations\": [{\"font\": {\"color\": \"rgb(255,255,255)\", \"size\": 10}, \"showarrow\": false, \"text\": \"1\", \"x\": -280, \"xref\": \"x\", \"y\": -81, \"yref\": \"y\"}, {\"font\": {\"color\": \"rgb(255,255,255)\", \"size\": 10}, \"showarrow\": false, \"text\": \"2\", \"x\": -100, \"xref\": \"x\", \"y\": -270, \"yref\": \"y\"}, {\"font\": {\"color\": \"rgb(255,255,255)\", \"size\": 10}, \"showarrow\": false, \"text\": \"3\", \"x\": 366, \"xref\": \"x\", \"y\": -270, \"yref\": \"y\"}, {\"font\": {\"color\": \"rgb(255,255,255)\", \"size\": 10}, \"showarrow\": false, \"text\": \"4\", \"x\": 350, \"xref\": \"x\", \"y\": -70, \"yref\": \"y\"}, {\"font\": {\"color\": \"rgb(255,255,255)\", \"size\": 10}, \"showarrow\": false, \"text\": \"5\", \"x\": -80, \"xref\": \"x\", \"y\": -54, \"yref\": \"y\"}, {\"font\": {\"color\": \"rgb(255,255,255)\", \"size\": 10}, \"showarrow\": false, \"text\": \"6\", \"x\": -64, \"xref\": \"x\", \"y\": 54, \"yref\": \"y\"}, {\"font\": {\"color\": \"rgb(255,255,255)\", \"size\": 10}, \"showarrow\": false, \"text\": \"7\", \"x\": 380, \"xref\": \"x\", \"y\": 0, \"yref\": \"y\"}, {\"font\": {\"color\": \"rgb(255,255,255)\", \"size\": 10}, \"showarrow\": false, \"text\": \"8\", \"x\": 438, \"xref\": \"x\", \"y\": 0, \"yref\": \"y\"}, {\"font\": {\"color\": \"rgb(255,255,255)\", \"size\": 10}, \"showarrow\": false, \"text\": \"9\", \"x\": 326, \"xref\": \"x\", \"y\": 70, \"yref\": \"y\"}, {\"font\": {\"color\": \"rgb(255,255,255)\", \"size\": 10}, \"showarrow\": false, \"text\": \"10\", \"x\": 200, \"xref\": \"x\", \"y\": 108, \"yref\": \"y\"}, {\"font\": {\"color\": \"rgb(255,255,255)\", \"size\": 10}, \"showarrow\": false, \"text\": \"11\", \"x\": 79, \"xref\": \"x\", \"y\": 162, \"yref\": \"y\"}, {\"font\": {\"color\": \"rgb(255,255,255)\", \"size\": 10}, \"showarrow\": false, \"text\": \"12\", \"x\": -152, \"xref\": \"x\", \"y\": 270, \"yref\": \"y\"}, {\"font\": {\"color\": \"rgb(255,255,255)\", \"size\": 10}, \"showarrow\": false, \"text\": \"13\", \"x\": -40, \"xref\": \"x\", \"y\": 270, \"yref\": \"y\"}, {\"font\": {\"color\": \"rgb(255,255,255)\", \"size\": 10}, \"showarrow\": false, \"text\": \"14\", \"x\": 222, \"xref\": \"x\", \"y\": 270, \"yref\": \"y\"}], \"margin\": {\"b\": 10, \"l\": 5, \"r\": 5, \"t\": 10}, \"showlegend\": false, \"xaxis\": {\"showgrid\": false, \"showticklabels\": false, \"zeroline\": false}, \"yaxis\": {\"showgrid\": false, \"showticklabels\": false, \"zeroline\": false}},\n",
       "                        {\"showLink\": false, \"linkText\": \"Export to plot.ly\", \"plotlyServerURL\": \"https://plot.ly\", \"responsive\": true}\n",
       "                    ).then(function(){\n",
       "                            \n",
       "var gd = document.getElementById('a2af728b-ce3c-4856-ac55-630412e9b870');\n",
       "var x = new MutationObserver(function (mutations, observer) {{\n",
       "        var display = window.getComputedStyle(gd).display;\n",
       "        if (!display || display === 'none') {{\n",
       "            console.log([gd, 'removed!']);\n",
       "            Plotly.purge(gd);\n",
       "            observer.disconnect();\n",
       "        }}\n",
       "}});\n",
       "\n",
       "// Listen for the removal of the full notebook cells\n",
       "var notebookContainer = gd.closest('#notebook-container');\n",
       "if (notebookContainer) {{\n",
       "    x.observe(notebookContainer, {childList: true});\n",
       "}}\n",
       "\n",
       "// Listen for the clearing of the current output cell\n",
       "var outputEl = gd.closest('.output');\n",
       "if (outputEl) {{\n",
       "    x.observe(outputEl, {childList: true});\n",
       "}}\n",
       "\n",
       "                        })\n",
       "                };\n",
       "                });\n",
       "            </script>\n",
       "        </div>"
      ]
     },
     "metadata": {},
     "output_type": "display_data"
    },
    {
     "data": {
      "text/plain": [
       "'\\nTo make a new modification, please do not forget to re-run\\nthe entire notebook again with the desired configuration.\\n'"
      ]
     },
     "execution_count": 47,
     "metadata": {},
     "output_type": "execute_result"
    }
   ],
   "source": [
    "'''\n",
    "The user might specify his/her own layout for every node in the graph and the label position\n",
    "as well. For a reference layout, please check the visualize_grid.py script.\n",
    "'''\n",
    "\n",
    "# Please use the visualize_grid external script to display the \n",
    "# eletrical grid in the notebook.\n",
    "grid_after_action = plot_grid(environment, \n",
    "                              obs, \n",
    "                              action.as_array())\n",
    "\n",
    "# Plot the grid\n",
    "iplot(grid_after_action)\n",
    "\n",
    "'''\n",
    "To make a new modification, please do not forget to re-run\n",
    "the entire notebook again with the desired configuration.\n",
    "'''"
   ]
  },
  {
   "cell_type": "code",
   "execution_count": null,
   "metadata": {},
   "outputs": [],
   "source": []
  },
  {
   "cell_type": "code",
   "execution_count": null,
   "metadata": {},
   "outputs": [],
   "source": []
  }
 ],
 "metadata": {
  "kernelspec": {
   "display_name": "Python 3",
   "language": "python",
   "name": "python3"
  },
  "language_info": {
   "codemirror_mode": {
    "name": "ipython",
    "version": 3
   },
   "file_extension": ".py",
   "mimetype": "text/x-python",
   "name": "python",
   "nbconvert_exporter": "python",
   "pygments_lexer": "ipython3",
   "version": "3.7.3"
  }
 },
 "nbformat": 4,
 "nbformat_minor": 2
}
